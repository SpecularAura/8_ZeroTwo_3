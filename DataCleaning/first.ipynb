{
 "cells": [
  {
   "cell_type": "markdown",
   "metadata": {},
   "source": [
    "# Supply Chain Mangement Software:\n"
   ]
  },
  {
   "cell_type": "code",
   "execution_count": 3,
   "metadata": {
    "_cell_guid": "b1076dfc-b9ad-4769-8c92-a6c4dae69d19",
    "_uuid": "8f2839f25d086af736a60e9eeb907d3b93b6e0e5",
    "execution": {
     "iopub.execute_input": "2022-10-01T12:31:21.440912Z",
     "iopub.status.busy": "2022-10-01T12:31:21.440039Z",
     "iopub.status.idle": "2022-10-01T12:31:31.162231Z",
     "shell.execute_reply": "2022-10-01T12:31:31.161172Z",
     "shell.execute_reply.started": "2022-10-01T12:31:21.440787Z"
    }
   },
   "outputs": [
    {
     "data": {
      "text/html": [
       "        <script type=\"text/javascript\">\n",
       "        window.PlotlyConfig = {MathJaxConfig: 'local'};\n",
       "        if (window.MathJax) {MathJax.Hub.Config({SVG: {font: \"STIX-Web\"}});}\n",
       "        if (typeof require !== 'undefined') {\n",
       "        require.undef(\"plotly\");\n",
       "        requirejs.config({\n",
       "            paths: {\n",
       "                'plotly': ['https://cdn.plot.ly/plotly-2.9.0.min']\n",
       "            }\n",
       "        });\n",
       "        require(['plotly'], function(Plotly) {\n",
       "            window._Plotly = Plotly;\n",
       "        });\n",
       "        }\n",
       "        </script>\n",
       "        "
      ]
     },
     "metadata": {},
     "output_type": "display_data"
    }
   ],
   "source": [
    "import numpy as np\n",
    "import pandas as pd\n",
    "# pd.set_option('max_columns', None)\n",
    "\n",
    "import matplotlib.pyplot as plt\n",
    "import seaborn as sns\n",
    "\n",
    "import plotly.graph_objs as go\n",
    "import plotly.offline as py\n",
    "py.init_notebook_mode(connected=True)"
   ]
  },
  {
   "cell_type": "code",
   "execution_count": 4,
   "metadata": {
    "execution": {
     "iopub.execute_input": "2022-10-01T12:31:31.166231Z",
     "iopub.status.busy": "2022-10-01T12:31:31.164610Z",
     "iopub.status.idle": "2022-10-01T12:31:31.357855Z",
     "shell.execute_reply": "2022-10-01T12:31:31.356895Z",
     "shell.execute_reply.started": "2022-10-01T12:31:31.166181Z"
    }
   },
   "outputs": [],
   "source": [
    "df = pd.read_csv(\"supply_chain.csv\", encoding='latin-1')"
   ]
  },
  {
   "cell_type": "code",
   "execution_count": 5,
   "metadata": {
    "execution": {
     "iopub.execute_input": "2022-10-01T12:31:31.363799Z",
     "iopub.status.busy": "2022-10-01T12:31:31.361286Z",
     "iopub.status.idle": "2022-10-01T12:31:31.429720Z",
     "shell.execute_reply": "2022-10-01T12:31:31.428533Z",
     "shell.execute_reply.started": "2022-10-01T12:31:31.363756Z"
    }
   },
   "outputs": [
    {
     "data": {
      "text/html": [
       "<div>\n",
       "<style scoped>\n",
       "    .dataframe tbody tr th:only-of-type {\n",
       "        vertical-align: middle;\n",
       "    }\n",
       "\n",
       "    .dataframe tbody tr th {\n",
       "        vertical-align: top;\n",
       "    }\n",
       "\n",
       "    .dataframe thead th {\n",
       "        text-align: right;\n",
       "    }\n",
       "</style>\n",
       "<table border=\"1\" class=\"dataframe\">\n",
       "  <thead>\n",
       "    <tr style=\"text-align: right;\">\n",
       "      <th></th>\n",
       "      <th>ID</th>\n",
       "      <th>Project Code</th>\n",
       "      <th>PQ #</th>\n",
       "      <th>PO / SO #</th>\n",
       "      <th>ASN/DN #</th>\n",
       "      <th>Country</th>\n",
       "      <th>Managed By</th>\n",
       "      <th>Fulfill Via</th>\n",
       "      <th>Vendor INCO Term</th>\n",
       "      <th>Shipment Mode</th>\n",
       "      <th>...</th>\n",
       "      <th>Unit of Measure (Per Pack)</th>\n",
       "      <th>Line Item Quantity</th>\n",
       "      <th>Line Item Value</th>\n",
       "      <th>Pack Price</th>\n",
       "      <th>Unit Price</th>\n",
       "      <th>Manufacturing Site</th>\n",
       "      <th>First Line Designation</th>\n",
       "      <th>Weight (Kilograms)</th>\n",
       "      <th>Freight Cost (USD)</th>\n",
       "      <th>Line Item Insurance (USD)</th>\n",
       "    </tr>\n",
       "  </thead>\n",
       "  <tbody>\n",
       "    <tr>\n",
       "      <th>0</th>\n",
       "      <td>1</td>\n",
       "      <td>100-CI-T01</td>\n",
       "      <td>Pre-PQ Process</td>\n",
       "      <td>SCMS-4</td>\n",
       "      <td>ASN-8</td>\n",
       "      <td>Côte d'Ivoire</td>\n",
       "      <td>PMO - US</td>\n",
       "      <td>Direct Drop</td>\n",
       "      <td>EXW</td>\n",
       "      <td>Air</td>\n",
       "      <td>...</td>\n",
       "      <td>30</td>\n",
       "      <td>19</td>\n",
       "      <td>551.0</td>\n",
       "      <td>29.00</td>\n",
       "      <td>0.97</td>\n",
       "      <td>Ranbaxy Fine Chemicals LTD</td>\n",
       "      <td>Yes</td>\n",
       "      <td>13</td>\n",
       "      <td>780.34</td>\n",
       "      <td>NaN</td>\n",
       "    </tr>\n",
       "    <tr>\n",
       "      <th>1</th>\n",
       "      <td>3</td>\n",
       "      <td>108-VN-T01</td>\n",
       "      <td>Pre-PQ Process</td>\n",
       "      <td>SCMS-13</td>\n",
       "      <td>ASN-85</td>\n",
       "      <td>Vietnam</td>\n",
       "      <td>PMO - US</td>\n",
       "      <td>Direct Drop</td>\n",
       "      <td>EXW</td>\n",
       "      <td>Air</td>\n",
       "      <td>...</td>\n",
       "      <td>240</td>\n",
       "      <td>1000</td>\n",
       "      <td>6200.0</td>\n",
       "      <td>6.20</td>\n",
       "      <td>0.03</td>\n",
       "      <td>Aurobindo Unit III, India</td>\n",
       "      <td>Yes</td>\n",
       "      <td>358</td>\n",
       "      <td>4521.5</td>\n",
       "      <td>NaN</td>\n",
       "    </tr>\n",
       "    <tr>\n",
       "      <th>2</th>\n",
       "      <td>4</td>\n",
       "      <td>100-CI-T01</td>\n",
       "      <td>Pre-PQ Process</td>\n",
       "      <td>SCMS-20</td>\n",
       "      <td>ASN-14</td>\n",
       "      <td>Côte d'Ivoire</td>\n",
       "      <td>PMO - US</td>\n",
       "      <td>Direct Drop</td>\n",
       "      <td>FCA</td>\n",
       "      <td>Air</td>\n",
       "      <td>...</td>\n",
       "      <td>100</td>\n",
       "      <td>500</td>\n",
       "      <td>40000.0</td>\n",
       "      <td>80.00</td>\n",
       "      <td>0.80</td>\n",
       "      <td>ABBVIE GmbH &amp; Co.KG Wiesbaden</td>\n",
       "      <td>Yes</td>\n",
       "      <td>171</td>\n",
       "      <td>1653.78</td>\n",
       "      <td>NaN</td>\n",
       "    </tr>\n",
       "    <tr>\n",
       "      <th>3</th>\n",
       "      <td>15</td>\n",
       "      <td>108-VN-T01</td>\n",
       "      <td>Pre-PQ Process</td>\n",
       "      <td>SCMS-78</td>\n",
       "      <td>ASN-50</td>\n",
       "      <td>Vietnam</td>\n",
       "      <td>PMO - US</td>\n",
       "      <td>Direct Drop</td>\n",
       "      <td>EXW</td>\n",
       "      <td>Air</td>\n",
       "      <td>...</td>\n",
       "      <td>60</td>\n",
       "      <td>31920</td>\n",
       "      <td>127360.8</td>\n",
       "      <td>3.99</td>\n",
       "      <td>0.07</td>\n",
       "      <td>Ranbaxy, Paonta Shahib, India</td>\n",
       "      <td>Yes</td>\n",
       "      <td>1855</td>\n",
       "      <td>16007.06</td>\n",
       "      <td>NaN</td>\n",
       "    </tr>\n",
       "    <tr>\n",
       "      <th>4</th>\n",
       "      <td>16</td>\n",
       "      <td>108-VN-T01</td>\n",
       "      <td>Pre-PQ Process</td>\n",
       "      <td>SCMS-81</td>\n",
       "      <td>ASN-55</td>\n",
       "      <td>Vietnam</td>\n",
       "      <td>PMO - US</td>\n",
       "      <td>Direct Drop</td>\n",
       "      <td>EXW</td>\n",
       "      <td>Air</td>\n",
       "      <td>...</td>\n",
       "      <td>60</td>\n",
       "      <td>38000</td>\n",
       "      <td>121600.0</td>\n",
       "      <td>3.20</td>\n",
       "      <td>0.05</td>\n",
       "      <td>Aurobindo Unit III, India</td>\n",
       "      <td>Yes</td>\n",
       "      <td>7590</td>\n",
       "      <td>45450.08</td>\n",
       "      <td>NaN</td>\n",
       "    </tr>\n",
       "  </tbody>\n",
       "</table>\n",
       "<p>5 rows × 33 columns</p>\n",
       "</div>"
      ],
      "text/plain": [
       "   ID Project Code            PQ # PO / SO # ASN/DN #        Country  \\\n",
       "0   1   100-CI-T01  Pre-PQ Process    SCMS-4    ASN-8  Côte d'Ivoire   \n",
       "1   3   108-VN-T01  Pre-PQ Process   SCMS-13   ASN-85        Vietnam   \n",
       "2   4   100-CI-T01  Pre-PQ Process   SCMS-20   ASN-14  Côte d'Ivoire   \n",
       "3  15   108-VN-T01  Pre-PQ Process   SCMS-78   ASN-50        Vietnam   \n",
       "4  16   108-VN-T01  Pre-PQ Process   SCMS-81   ASN-55        Vietnam   \n",
       "\n",
       "  Managed By  Fulfill Via Vendor INCO Term Shipment Mode  ...  \\\n",
       "0   PMO - US  Direct Drop              EXW           Air  ...   \n",
       "1   PMO - US  Direct Drop              EXW           Air  ...   \n",
       "2   PMO - US  Direct Drop              FCA           Air  ...   \n",
       "3   PMO - US  Direct Drop              EXW           Air  ...   \n",
       "4   PMO - US  Direct Drop              EXW           Air  ...   \n",
       "\n",
       "  Unit of Measure (Per Pack) Line Item Quantity Line Item Value Pack Price  \\\n",
       "0                         30                 19           551.0      29.00   \n",
       "1                        240               1000          6200.0       6.20   \n",
       "2                        100                500         40000.0      80.00   \n",
       "3                         60              31920        127360.8       3.99   \n",
       "4                         60              38000        121600.0       3.20   \n",
       "\n",
       "  Unit Price             Manufacturing Site First Line Designation  \\\n",
       "0       0.97     Ranbaxy Fine Chemicals LTD                    Yes   \n",
       "1       0.03      Aurobindo Unit III, India                    Yes   \n",
       "2       0.80  ABBVIE GmbH & Co.KG Wiesbaden                    Yes   \n",
       "3       0.07  Ranbaxy, Paonta Shahib, India                    Yes   \n",
       "4       0.05      Aurobindo Unit III, India                    Yes   \n",
       "\n",
       "  Weight (Kilograms) Freight Cost (USD) Line Item Insurance (USD)  \n",
       "0                 13             780.34                       NaN  \n",
       "1                358             4521.5                       NaN  \n",
       "2                171            1653.78                       NaN  \n",
       "3               1855           16007.06                       NaN  \n",
       "4               7590           45450.08                       NaN  \n",
       "\n",
       "[5 rows x 33 columns]"
      ]
     },
     "execution_count": 5,
     "metadata": {},
     "output_type": "execute_result"
    }
   ],
   "source": [
    "df.head()"
   ]
  },
  {
   "cell_type": "code",
   "execution_count": 6,
   "metadata": {},
   "outputs": [
    {
     "data": {
      "text/plain": [
       "(10324, 33)"
      ]
     },
     "execution_count": 6,
     "metadata": {},
     "output_type": "execute_result"
    }
   ],
   "source": [
    "df.shape"
   ]
  },
  {
   "cell_type": "code",
   "execution_count": 7,
   "metadata": {},
   "outputs": [
    {
     "name": "stdout",
     "output_type": "stream",
     "text": [
      "<class 'pandas.core.frame.DataFrame'>\n",
      "RangeIndex: 10324 entries, 0 to 10323\n",
      "Data columns (total 33 columns):\n",
      " #   Column                        Non-Null Count  Dtype  \n",
      "---  ------                        --------------  -----  \n",
      " 0   ID                            10324 non-null  int64  \n",
      " 1   Project Code                  10324 non-null  object \n",
      " 2   PQ #                          10324 non-null  object \n",
      " 3   PO / SO #                     10324 non-null  object \n",
      " 4   ASN/DN #                      10324 non-null  object \n",
      " 5   Country                       10324 non-null  object \n",
      " 6   Managed By                    10324 non-null  object \n",
      " 7   Fulfill Via                   10324 non-null  object \n",
      " 8   Vendor INCO Term              10324 non-null  object \n",
      " 9   Shipment Mode                 9964 non-null   object \n",
      " 10  PQ First Sent to Client Date  10324 non-null  object \n",
      " 11  PO Sent to Vendor Date        10324 non-null  object \n",
      " 12  Scheduled Delivery Date       10324 non-null  object \n",
      " 13  Delivered to Client Date      10324 non-null  object \n",
      " 14  Delivery Recorded Date        10324 non-null  object \n",
      " 15  Product Group                 10324 non-null  object \n",
      " 16  Sub Classification            10324 non-null  object \n",
      " 17  Vendor                        10324 non-null  object \n",
      " 18  Item Description              10324 non-null  object \n",
      " 19  Molecule/Test Type            10324 non-null  object \n",
      " 20  Brand                         10324 non-null  object \n",
      " 21  Dosage                        8588 non-null   object \n",
      " 22  Dosage Form                   10324 non-null  object \n",
      " 23  Unit of Measure (Per Pack)    10324 non-null  int64  \n",
      " 24  Line Item Quantity            10324 non-null  int64  \n",
      " 25  Line Item Value               10324 non-null  float64\n",
      " 26  Pack Price                    10324 non-null  float64\n",
      " 27  Unit Price                    10324 non-null  float64\n",
      " 28  Manufacturing Site            10324 non-null  object \n",
      " 29  First Line Designation        10324 non-null  object \n",
      " 30  Weight (Kilograms)            10324 non-null  object \n",
      " 31  Freight Cost (USD)            10324 non-null  object \n",
      " 32  Line Item Insurance (USD)     10037 non-null  float64\n",
      "dtypes: float64(4), int64(3), object(26)\n",
      "memory usage: 2.6+ MB\n"
     ]
    }
   ],
   "source": [
    "df.info()"
   ]
  },
  {
   "cell_type": "markdown",
   "metadata": {},
   "source": [
    "# Cleaning\n"
   ]
  },
  {
   "cell_type": "code",
   "execution_count": 8,
   "metadata": {},
   "outputs": [
    {
     "data": {
      "text/plain": [
       "ID                                int64\n",
       "Project Code                     object\n",
       "PQ #                             object\n",
       "PO / SO #                        object\n",
       "ASN/DN #                         object\n",
       "Country                          object\n",
       "Managed By                       object\n",
       "Fulfill Via                      object\n",
       "Vendor INCO Term                 object\n",
       "Shipment Mode                    object\n",
       "PQ First Sent to Client Date     object\n",
       "PO Sent to Vendor Date           object\n",
       "Scheduled Delivery Date          object\n",
       "Delivered to Client Date         object\n",
       "Delivery Recorded Date           object\n",
       "Product Group                    object\n",
       "Sub Classification               object\n",
       "Vendor                           object\n",
       "Item Description                 object\n",
       "Molecule/Test Type               object\n",
       "Brand                            object\n",
       "Dosage                           object\n",
       "Dosage Form                      object\n",
       "Unit of Measure (Per Pack)        int64\n",
       "Line Item Quantity                int64\n",
       "Line Item Value                 float64\n",
       "Pack Price                      float64\n",
       "Unit Price                      float64\n",
       "Manufacturing Site               object\n",
       "First Line Designation           object\n",
       "Weight (Kilograms)               object\n",
       "Freight Cost (USD)               object\n",
       "Line Item Insurance (USD)       float64\n",
       "dtype: object"
      ]
     },
     "execution_count": 8,
     "metadata": {},
     "output_type": "execute_result"
    }
   ],
   "source": [
    "df.dtypes"
   ]
  },
  {
   "cell_type": "code",
   "execution_count": 9,
   "metadata": {
    "execution": {
     "iopub.execute_input": "2022-10-01T12:31:31.448724Z",
     "iopub.status.busy": "2022-10-01T12:31:31.447825Z",
     "iopub.status.idle": "2022-10-01T12:31:32.367634Z",
     "shell.execute_reply": "2022-10-01T12:31:32.366305Z",
     "shell.execute_reply.started": "2022-10-01T12:31:31.448676Z"
    }
   },
   "outputs": [],
   "source": [
    " # Drop ID column\n",
    "df.drop('ID', axis=1, inplace=True)"
   ]
  },
  {
   "cell_type": "code",
   "execution_count": 10,
   "metadata": {
    "scrolled": false
   },
   "outputs": [
    {
     "data": {
      "text/html": [
       "<div>\n",
       "<style scoped>\n",
       "    .dataframe tbody tr th:only-of-type {\n",
       "        vertical-align: middle;\n",
       "    }\n",
       "\n",
       "    .dataframe tbody tr th {\n",
       "        vertical-align: top;\n",
       "    }\n",
       "\n",
       "    .dataframe thead th {\n",
       "        text-align: right;\n",
       "    }\n",
       "</style>\n",
       "<table border=\"1\" class=\"dataframe\">\n",
       "  <thead>\n",
       "    <tr style=\"text-align: right;\">\n",
       "      <th></th>\n",
       "      <th>count</th>\n",
       "      <th>mean</th>\n",
       "      <th>std</th>\n",
       "      <th>min</th>\n",
       "      <th>25%</th>\n",
       "      <th>50%</th>\n",
       "      <th>75%</th>\n",
       "      <th>max</th>\n",
       "    </tr>\n",
       "  </thead>\n",
       "  <tbody>\n",
       "    <tr>\n",
       "      <th>Unit of Measure (Per Pack)</th>\n",
       "      <td>10324.0</td>\n",
       "      <td>77.990895</td>\n",
       "      <td>76.579764</td>\n",
       "      <td>1.0</td>\n",
       "      <td>30.0000</td>\n",
       "      <td>60.000</td>\n",
       "      <td>90.0000</td>\n",
       "      <td>1000.00</td>\n",
       "    </tr>\n",
       "    <tr>\n",
       "      <th>Line Item Quantity</th>\n",
       "      <td>10324.0</td>\n",
       "      <td>18332.534870</td>\n",
       "      <td>40035.302961</td>\n",
       "      <td>1.0</td>\n",
       "      <td>408.0000</td>\n",
       "      <td>3000.000</td>\n",
       "      <td>17039.7500</td>\n",
       "      <td>619999.00</td>\n",
       "    </tr>\n",
       "    <tr>\n",
       "      <th>Line Item Value</th>\n",
       "      <td>10324.0</td>\n",
       "      <td>157650.567347</td>\n",
       "      <td>345292.066979</td>\n",
       "      <td>0.0</td>\n",
       "      <td>4314.5925</td>\n",
       "      <td>30471.465</td>\n",
       "      <td>166447.1400</td>\n",
       "      <td>5951990.40</td>\n",
       "    </tr>\n",
       "    <tr>\n",
       "      <th>Pack Price</th>\n",
       "      <td>10324.0</td>\n",
       "      <td>21.910241</td>\n",
       "      <td>45.609223</td>\n",
       "      <td>0.0</td>\n",
       "      <td>4.1200</td>\n",
       "      <td>9.300</td>\n",
       "      <td>23.5925</td>\n",
       "      <td>1345.64</td>\n",
       "    </tr>\n",
       "    <tr>\n",
       "      <th>Unit Price</th>\n",
       "      <td>10324.0</td>\n",
       "      <td>0.611701</td>\n",
       "      <td>3.275808</td>\n",
       "      <td>0.0</td>\n",
       "      <td>0.0800</td>\n",
       "      <td>0.160</td>\n",
       "      <td>0.4700</td>\n",
       "      <td>238.65</td>\n",
       "    </tr>\n",
       "    <tr>\n",
       "      <th>Line Item Insurance (USD)</th>\n",
       "      <td>10037.0</td>\n",
       "      <td>240.117626</td>\n",
       "      <td>500.190568</td>\n",
       "      <td>0.0</td>\n",
       "      <td>6.5100</td>\n",
       "      <td>47.040</td>\n",
       "      <td>252.4000</td>\n",
       "      <td>7708.44</td>\n",
       "    </tr>\n",
       "  </tbody>\n",
       "</table>\n",
       "</div>"
      ],
      "text/plain": [
       "                              count           mean            std  min  \\\n",
       "Unit of Measure (Per Pack)  10324.0      77.990895      76.579764  1.0   \n",
       "Line Item Quantity          10324.0   18332.534870   40035.302961  1.0   \n",
       "Line Item Value             10324.0  157650.567347  345292.066979  0.0   \n",
       "Pack Price                  10324.0      21.910241      45.609223  0.0   \n",
       "Unit Price                  10324.0       0.611701       3.275808  0.0   \n",
       "Line Item Insurance (USD)   10037.0     240.117626     500.190568  0.0   \n",
       "\n",
       "                                  25%        50%          75%         max  \n",
       "Unit of Measure (Per Pack)    30.0000     60.000      90.0000     1000.00  \n",
       "Line Item Quantity           408.0000   3000.000   17039.7500   619999.00  \n",
       "Line Item Value             4314.5925  30471.465  166447.1400  5951990.40  \n",
       "Pack Price                     4.1200      9.300      23.5925     1345.64  \n",
       "Unit Price                     0.0800      0.160       0.4700      238.65  \n",
       "Line Item Insurance (USD)      6.5100     47.040     252.4000     7708.44  "
      ]
     },
     "execution_count": 10,
     "metadata": {},
     "output_type": "execute_result"
    }
   ],
   "source": [
    "df.describe().transpose()"
   ]
  },
  {
   "cell_type": "code",
   "execution_count": 11,
   "metadata": {},
   "outputs": [
    {
     "data": {
      "text/plain": [
       "Air            6113\n",
       "Truck          2830\n",
       "Air Charter     650\n",
       "Ocean           371\n",
       "Name: Shipment Mode, dtype: int64"
      ]
     },
     "execution_count": 11,
     "metadata": {},
     "output_type": "execute_result"
    }
   ],
   "source": [
    "\n",
    "df[\"Shipment Mode\"].value_counts()"
   ]
  },
  {
   "cell_type": "code",
   "execution_count": 12,
   "metadata": {},
   "outputs": [
    {
     "data": {
      "text/plain": [
       "array(['Air', nan, 'Truck', 'Air Charter', 'Ocean'], dtype=object)"
      ]
     },
     "execution_count": 12,
     "metadata": {},
     "output_type": "execute_result"
    }
   ],
   "source": [
    "df[\"Shipment Mode\"].unique()"
   ]
  },
  {
   "cell_type": "markdown",
   "metadata": {},
   "source": [
    "# Data Cleaning"
   ]
  },
  {
   "cell_type": "code",
   "execution_count": 13,
   "metadata": {
    "execution": {
     "iopub.execute_input": "2022-10-01T12:31:32.370395Z",
     "iopub.status.busy": "2022-10-01T12:31:32.369674Z",
     "iopub.status.idle": "2022-10-01T12:31:32.415907Z",
     "shell.execute_reply": "2022-10-01T12:31:32.414757Z",
     "shell.execute_reply.started": "2022-10-01T12:31:32.370357Z"
    }
   },
   "outputs": [],
   "source": [
    "# Drop empty Shipment mode rows\n",
    "missing_target_rows = df[df['Shipment Mode'].isna()].index\n",
    "df = df.drop(missing_target_rows, axis=0).reset_index(drop=True)"
   ]
  },
  {
   "cell_type": "code",
   "execution_count": 35,
   "metadata": {},
   "outputs": [],
   "source": [
    "# Fill missing values\n",
    "df['Dosage'] = df['Dosage'].fillna(df['Dosage'].mode()[0])\n",
    "df['Line Item Insurance (USD)'] = df['Line Item Insurance (USD)'].fillna(df['Line Item Insurance (USD)'].mean())"
   ]
  },
  {
   "cell_type": "code",
   "execution_count": 14,
   "metadata": {},
   "outputs": [],
   "source": [
    "for column in ['Scheduled Delivery Date', 'Delivered to Client Date', 'Delivery Recorded Date']:\n",
    "        df[column] = pd.to_datetime(df[column])\n",
    "        df[column + ' Year'] = df[column].apply(lambda x: x.year)\n",
    "        df[column + ' Month'] = df[column].apply(lambda x: x.month)\n",
    "        df[column + ' Day'] = df[column].apply(lambda x: x.day)\n",
    "        df = df.drop(column, axis=1)"
   ]
  },
  {
   "cell_type": "code",
   "execution_count": 15,
   "metadata": {},
   "outputs": [],
   "source": [
    "# Drop numeric columns with too many missing values\n",
    "df = df.drop(['Weight (Kilograms)', 'Freight Cost (USD)'], axis=1)\n",
    "# Drop high-cardinality columns\n",
    "df = df.drop(['PQ #', 'PO / SO #', 'ASN/DN #'], axis=1)"
   ]
  },
  {
   "cell_type": "code",
   "execution_count": 16,
   "metadata": {},
   "outputs": [],
   "source": [
    "# Binary encoding\n",
    "df['Fulfill Via'] = df['Fulfill Via'].replace({'Direct Drop': 0, 'From RDC': 1})\n",
    "df['First Line Designation'] = df['First Line Designation'].replace({'No': 0, 'Yes': 1})"
   ]
  },
  {
   "cell_type": "code",
   "execution_count": 17,
   "metadata": {},
   "outputs": [
    {
     "data": {
      "text/html": [
       "<div>\n",
       "<style scoped>\n",
       "    .dataframe tbody tr th:only-of-type {\n",
       "        vertical-align: middle;\n",
       "    }\n",
       "\n",
       "    .dataframe tbody tr th {\n",
       "        vertical-align: top;\n",
       "    }\n",
       "\n",
       "    .dataframe thead th {\n",
       "        text-align: right;\n",
       "    }\n",
       "</style>\n",
       "<table border=\"1\" class=\"dataframe\">\n",
       "  <thead>\n",
       "    <tr style=\"text-align: right;\">\n",
       "      <th></th>\n",
       "      <th>Project Code</th>\n",
       "      <th>Country</th>\n",
       "      <th>Managed By</th>\n",
       "      <th>Fulfill Via</th>\n",
       "      <th>Vendor INCO Term</th>\n",
       "      <th>Shipment Mode</th>\n",
       "      <th>PQ First Sent to Client Date</th>\n",
       "      <th>PO Sent to Vendor Date</th>\n",
       "      <th>Product Group</th>\n",
       "      <th>Sub Classification</th>\n",
       "      <th>...</th>\n",
       "      <th>Line Item Insurance (USD)</th>\n",
       "      <th>Scheduled Delivery Date Year</th>\n",
       "      <th>Scheduled Delivery Date Month</th>\n",
       "      <th>Scheduled Delivery Date Day</th>\n",
       "      <th>Delivered to Client Date Year</th>\n",
       "      <th>Delivered to Client Date Month</th>\n",
       "      <th>Delivered to Client Date Day</th>\n",
       "      <th>Delivery Recorded Date Year</th>\n",
       "      <th>Delivery Recorded Date Month</th>\n",
       "      <th>Delivery Recorded Date Day</th>\n",
       "    </tr>\n",
       "  </thead>\n",
       "  <tbody>\n",
       "    <tr>\n",
       "      <th>0</th>\n",
       "      <td>100-CI-T01</td>\n",
       "      <td>Côte d'Ivoire</td>\n",
       "      <td>PMO - US</td>\n",
       "      <td>0</td>\n",
       "      <td>EXW</td>\n",
       "      <td>Air</td>\n",
       "      <td>Pre-PQ Process</td>\n",
       "      <td>Date Not Captured</td>\n",
       "      <td>HRDT</td>\n",
       "      <td>HIV test</td>\n",
       "      <td>...</td>\n",
       "      <td>NaN</td>\n",
       "      <td>2006</td>\n",
       "      <td>6</td>\n",
       "      <td>2</td>\n",
       "      <td>2006</td>\n",
       "      <td>6</td>\n",
       "      <td>2</td>\n",
       "      <td>2006</td>\n",
       "      <td>6</td>\n",
       "      <td>2</td>\n",
       "    </tr>\n",
       "    <tr>\n",
       "      <th>1</th>\n",
       "      <td>108-VN-T01</td>\n",
       "      <td>Vietnam</td>\n",
       "      <td>PMO - US</td>\n",
       "      <td>0</td>\n",
       "      <td>EXW</td>\n",
       "      <td>Air</td>\n",
       "      <td>Pre-PQ Process</td>\n",
       "      <td>Date Not Captured</td>\n",
       "      <td>ARV</td>\n",
       "      <td>Pediatric</td>\n",
       "      <td>...</td>\n",
       "      <td>NaN</td>\n",
       "      <td>2006</td>\n",
       "      <td>11</td>\n",
       "      <td>14</td>\n",
       "      <td>2006</td>\n",
       "      <td>11</td>\n",
       "      <td>14</td>\n",
       "      <td>2006</td>\n",
       "      <td>11</td>\n",
       "      <td>14</td>\n",
       "    </tr>\n",
       "    <tr>\n",
       "      <th>2</th>\n",
       "      <td>100-CI-T01</td>\n",
       "      <td>Côte d'Ivoire</td>\n",
       "      <td>PMO - US</td>\n",
       "      <td>0</td>\n",
       "      <td>FCA</td>\n",
       "      <td>Air</td>\n",
       "      <td>Pre-PQ Process</td>\n",
       "      <td>Date Not Captured</td>\n",
       "      <td>HRDT</td>\n",
       "      <td>HIV test</td>\n",
       "      <td>...</td>\n",
       "      <td>NaN</td>\n",
       "      <td>2006</td>\n",
       "      <td>8</td>\n",
       "      <td>27</td>\n",
       "      <td>2006</td>\n",
       "      <td>8</td>\n",
       "      <td>27</td>\n",
       "      <td>2006</td>\n",
       "      <td>8</td>\n",
       "      <td>27</td>\n",
       "    </tr>\n",
       "    <tr>\n",
       "      <th>3</th>\n",
       "      <td>108-VN-T01</td>\n",
       "      <td>Vietnam</td>\n",
       "      <td>PMO - US</td>\n",
       "      <td>0</td>\n",
       "      <td>EXW</td>\n",
       "      <td>Air</td>\n",
       "      <td>Pre-PQ Process</td>\n",
       "      <td>Date Not Captured</td>\n",
       "      <td>ARV</td>\n",
       "      <td>Adult</td>\n",
       "      <td>...</td>\n",
       "      <td>NaN</td>\n",
       "      <td>2006</td>\n",
       "      <td>9</td>\n",
       "      <td>1</td>\n",
       "      <td>2006</td>\n",
       "      <td>9</td>\n",
       "      <td>1</td>\n",
       "      <td>2006</td>\n",
       "      <td>9</td>\n",
       "      <td>1</td>\n",
       "    </tr>\n",
       "    <tr>\n",
       "      <th>4</th>\n",
       "      <td>108-VN-T01</td>\n",
       "      <td>Vietnam</td>\n",
       "      <td>PMO - US</td>\n",
       "      <td>0</td>\n",
       "      <td>EXW</td>\n",
       "      <td>Air</td>\n",
       "      <td>Pre-PQ Process</td>\n",
       "      <td>Date Not Captured</td>\n",
       "      <td>ARV</td>\n",
       "      <td>Adult</td>\n",
       "      <td>...</td>\n",
       "      <td>NaN</td>\n",
       "      <td>2006</td>\n",
       "      <td>8</td>\n",
       "      <td>11</td>\n",
       "      <td>2006</td>\n",
       "      <td>8</td>\n",
       "      <td>11</td>\n",
       "      <td>2006</td>\n",
       "      <td>8</td>\n",
       "      <td>11</td>\n",
       "    </tr>\n",
       "  </tbody>\n",
       "</table>\n",
       "<p>5 rows × 33 columns</p>\n",
       "</div>"
      ],
      "text/plain": [
       "  Project Code        Country Managed By  Fulfill Via Vendor INCO Term  \\\n",
       "0   100-CI-T01  Côte d'Ivoire   PMO - US            0              EXW   \n",
       "1   108-VN-T01        Vietnam   PMO - US            0              EXW   \n",
       "2   100-CI-T01  Côte d'Ivoire   PMO - US            0              FCA   \n",
       "3   108-VN-T01        Vietnam   PMO - US            0              EXW   \n",
       "4   108-VN-T01        Vietnam   PMO - US            0              EXW   \n",
       "\n",
       "  Shipment Mode PQ First Sent to Client Date PO Sent to Vendor Date  \\\n",
       "0           Air               Pre-PQ Process      Date Not Captured   \n",
       "1           Air               Pre-PQ Process      Date Not Captured   \n",
       "2           Air               Pre-PQ Process      Date Not Captured   \n",
       "3           Air               Pre-PQ Process      Date Not Captured   \n",
       "4           Air               Pre-PQ Process      Date Not Captured   \n",
       "\n",
       "  Product Group Sub Classification  ... Line Item Insurance (USD)  \\\n",
       "0          HRDT           HIV test  ...                       NaN   \n",
       "1           ARV          Pediatric  ...                       NaN   \n",
       "2          HRDT           HIV test  ...                       NaN   \n",
       "3           ARV              Adult  ...                       NaN   \n",
       "4           ARV              Adult  ...                       NaN   \n",
       "\n",
       "  Scheduled Delivery Date Year Scheduled Delivery Date Month  \\\n",
       "0                         2006                             6   \n",
       "1                         2006                            11   \n",
       "2                         2006                             8   \n",
       "3                         2006                             9   \n",
       "4                         2006                             8   \n",
       "\n",
       "  Scheduled Delivery Date Day Delivered to Client Date Year  \\\n",
       "0                           2                          2006   \n",
       "1                          14                          2006   \n",
       "2                          27                          2006   \n",
       "3                           1                          2006   \n",
       "4                          11                          2006   \n",
       "\n",
       "  Delivered to Client Date Month  Delivered to Client Date Day  \\\n",
       "0                              6                             2   \n",
       "1                             11                            14   \n",
       "2                              8                            27   \n",
       "3                              9                             1   \n",
       "4                              8                            11   \n",
       "\n",
       "   Delivery Recorded Date Year  Delivery Recorded Date Month  \\\n",
       "0                         2006                             6   \n",
       "1                         2006                            11   \n",
       "2                         2006                             8   \n",
       "3                         2006                             9   \n",
       "4                         2006                             8   \n",
       "\n",
       "   Delivery Recorded Date Day  \n",
       "0                           2  \n",
       "1                          14  \n",
       "2                          27  \n",
       "3                           1  \n",
       "4                          11  \n",
       "\n",
       "[5 rows x 33 columns]"
      ]
     },
     "execution_count": 17,
     "metadata": {},
     "output_type": "execute_result"
    }
   ],
   "source": [
    "df.head()"
   ]
  },
  {
   "cell_type": "code",
   "execution_count": 18,
   "metadata": {},
   "outputs": [
    {
     "data": {
      "text/plain": [
       "(9964, 33)"
      ]
     },
     "execution_count": 18,
     "metadata": {},
     "output_type": "execute_result"
    }
   ],
   "source": [
    "df.shape"
   ]
  },
  {
   "cell_type": "code",
   "execution_count": 19,
   "metadata": {},
   "outputs": [
    {
     "data": {
      "text/plain": [
       "0       False\n",
       "1       False\n",
       "2       False\n",
       "3       False\n",
       "4       False\n",
       "        ...  \n",
       "9959    False\n",
       "9960    False\n",
       "9961    False\n",
       "9962    False\n",
       "9963    False\n",
       "Name: Shipment Mode, Length: 9964, dtype: bool"
      ]
     },
     "execution_count": 19,
     "metadata": {},
     "output_type": "execute_result"
    }
   ],
   "source": [
    "df[\"Shipment Mode\"].isnull()"
   ]
  },
  {
   "cell_type": "markdown",
   "metadata": {},
   "source": [
    "### Mode for Shipments:"
   ]
  },
  {
   "cell_type": "code",
   "execution_count": 20,
   "metadata": {},
   "outputs": [
    {
     "data": {
      "image/png": "[encoded data removed]",
      "text/plain": [
       "<Figure size 432x288 with 1 Axes>"
      ]
     },
     "metadata": {
      "needs_background": "light"
     },
     "output_type": "display_data"
    }
   ],
   "source": [
    "df[\"Shipment Mode\"].hist();"
   ]
  },
  {
   "cell_type": "markdown",
   "metadata": {},
   "source": [
    "### Freight Cost:"
   ]
  },
  {
   "cell_type": "code",
   "execution_count": 21,
   "metadata": {},
   "outputs": [
    {
     "data": {
      "text/plain": [
       "<Figure size 1080x864 with 0 Axes>"
      ]
     },
     "metadata": {},
     "output_type": "display_data"
    },
    {
     "data": {
      "image/png": "[encoded data removed]",
      "text/plain": [
       "<Figure size 432x288 with 1 Axes>"
      ]
     },
     "metadata": {
      "needs_background": "light"
     },
     "output_type": "display_data"
    }
   ],
   "source": [
    "# freigth cost = It is the amount paid to a carrier company for the transportation of goods from the point of origin to an agreed location.\n",
    "plt.figure(figsize=(15, 12))\n",
    "df.plot(x='Country', y='Pack Price');"
   ]
  },
  {
   "cell_type": "code",
   "execution_count": 22,
   "metadata": {},
   "outputs": [
    {
     "data": {
      "text/html": [
       "<div>\n",
       "<style scoped>\n",
       "    .dataframe tbody tr th:only-of-type {\n",
       "        vertical-align: middle;\n",
       "    }\n",
       "\n",
       "    .dataframe tbody tr th {\n",
       "        vertical-align: top;\n",
       "    }\n",
       "\n",
       "    .dataframe thead th {\n",
       "        text-align: right;\n",
       "    }\n",
       "</style>\n",
       "<table border=\"1\" class=\"dataframe\">\n",
       "  <thead>\n",
       "    <tr style=\"text-align: right;\">\n",
       "      <th>Country</th>\n",
       "      <th>Afghanistan</th>\n",
       "      <th>Angola</th>\n",
       "      <th>Belize</th>\n",
       "      <th>Benin</th>\n",
       "      <th>Botswana</th>\n",
       "      <th>Burkina Faso</th>\n",
       "      <th>Burundi</th>\n",
       "      <th>Cameroon</th>\n",
       "      <th>Congo, DRC</th>\n",
       "      <th>Côte d'Ivoire</th>\n",
       "      <th>...</th>\n",
       "      <th>South Africa</th>\n",
       "      <th>South Sudan</th>\n",
       "      <th>Sudan</th>\n",
       "      <th>Swaziland</th>\n",
       "      <th>Tanzania</th>\n",
       "      <th>Togo</th>\n",
       "      <th>Uganda</th>\n",
       "      <th>Vietnam</th>\n",
       "      <th>Zambia</th>\n",
       "      <th>Zimbabwe</th>\n",
       "    </tr>\n",
       "    <tr>\n",
       "      <th>Shipment Mode</th>\n",
       "      <th></th>\n",
       "      <th></th>\n",
       "      <th></th>\n",
       "      <th></th>\n",
       "      <th></th>\n",
       "      <th></th>\n",
       "      <th></th>\n",
       "      <th></th>\n",
       "      <th></th>\n",
       "      <th></th>\n",
       "      <th></th>\n",
       "      <th></th>\n",
       "      <th></th>\n",
       "      <th></th>\n",
       "      <th></th>\n",
       "      <th></th>\n",
       "      <th></th>\n",
       "      <th></th>\n",
       "      <th></th>\n",
       "      <th></th>\n",
       "      <th></th>\n",
       "    </tr>\n",
       "  </thead>\n",
       "  <tbody>\n",
       "    <tr>\n",
       "      <th>Air</th>\n",
       "      <td>3</td>\n",
       "      <td>5</td>\n",
       "      <td>1</td>\n",
       "      <td>13</td>\n",
       "      <td>63</td>\n",
       "      <td>2</td>\n",
       "      <td>98</td>\n",
       "      <td>61</td>\n",
       "      <td>331</td>\n",
       "      <td>682</td>\n",
       "      <td>...</td>\n",
       "      <td>230</td>\n",
       "      <td>162</td>\n",
       "      <td>46</td>\n",
       "      <td>32</td>\n",
       "      <td>306</td>\n",
       "      <td>3</td>\n",
       "      <td>534</td>\n",
       "      <td>687</td>\n",
       "      <td>195</td>\n",
       "      <td>145</td>\n",
       "    </tr>\n",
       "    <tr>\n",
       "      <th>Air Charter</th>\n",
       "      <td>0</td>\n",
       "      <td>0</td>\n",
       "      <td>0</td>\n",
       "      <td>0</td>\n",
       "      <td>0</td>\n",
       "      <td>0</td>\n",
       "      <td>0</td>\n",
       "      <td>14</td>\n",
       "      <td>0</td>\n",
       "      <td>5</td>\n",
       "      <td>...</td>\n",
       "      <td>0</td>\n",
       "      <td>0</td>\n",
       "      <td>0</td>\n",
       "      <td>0</td>\n",
       "      <td>0</td>\n",
       "      <td>0</td>\n",
       "      <td>0</td>\n",
       "      <td>0</td>\n",
       "      <td>0</td>\n",
       "      <td>18</td>\n",
       "    </tr>\n",
       "    <tr>\n",
       "      <th>Ocean</th>\n",
       "      <td>0</td>\n",
       "      <td>0</td>\n",
       "      <td>0</td>\n",
       "      <td>0</td>\n",
       "      <td>0</td>\n",
       "      <td>0</td>\n",
       "      <td>0</td>\n",
       "      <td>0</td>\n",
       "      <td>0</td>\n",
       "      <td>5</td>\n",
       "      <td>...</td>\n",
       "      <td>229</td>\n",
       "      <td>0</td>\n",
       "      <td>0</td>\n",
       "      <td>2</td>\n",
       "      <td>6</td>\n",
       "      <td>0</td>\n",
       "      <td>8</td>\n",
       "      <td>0</td>\n",
       "      <td>3</td>\n",
       "      <td>3</td>\n",
       "    </tr>\n",
       "    <tr>\n",
       "      <th>Truck</th>\n",
       "      <td>0</td>\n",
       "      <td>2</td>\n",
       "      <td>0</td>\n",
       "      <td>0</td>\n",
       "      <td>4</td>\n",
       "      <td>0</td>\n",
       "      <td>0</td>\n",
       "      <td>0</td>\n",
       "      <td>2</td>\n",
       "      <td>278</td>\n",
       "      <td>...</td>\n",
       "      <td>905</td>\n",
       "      <td>2</td>\n",
       "      <td>0</td>\n",
       "      <td>1</td>\n",
       "      <td>187</td>\n",
       "      <td>0</td>\n",
       "      <td>229</td>\n",
       "      <td>1</td>\n",
       "      <td>386</td>\n",
       "      <td>360</td>\n",
       "    </tr>\n",
       "  </tbody>\n",
       "</table>\n",
       "<p>4 rows × 43 columns</p>\n",
       "</div>"
      ],
      "text/plain": [
       "Country        Afghanistan  Angola  Belize  Benin  Botswana  Burkina Faso  \\\n",
       "Shipment Mode                                                               \n",
       "Air                      3       5       1     13        63             2   \n",
       "Air Charter              0       0       0      0         0             0   \n",
       "Ocean                    0       0       0      0         0             0   \n",
       "Truck                    0       2       0      0         4             0   \n",
       "\n",
       "Country        Burundi  Cameroon  Congo, DRC  Côte d'Ivoire  ...  \\\n",
       "Shipment Mode                                                ...   \n",
       "Air                 98        61         331            682  ...   \n",
       "Air Charter          0        14           0              5  ...   \n",
       "Ocean                0         0           0              5  ...   \n",
       "Truck                0         0           2            278  ...   \n",
       "\n",
       "Country        South Africa  South Sudan  Sudan  Swaziland  Tanzania  Togo  \\\n",
       "Shipment Mode                                                                \n",
       "Air                     230          162     46         32       306     3   \n",
       "Air Charter               0            0      0          0         0     0   \n",
       "Ocean                   229            0      0          2         6     0   \n",
       "Truck                   905            2      0          1       187     0   \n",
       "\n",
       "Country        Uganda  Vietnam  Zambia  Zimbabwe  \n",
       "Shipment Mode                                     \n",
       "Air               534      687     195       145  \n",
       "Air Charter         0        0       0        18  \n",
       "Ocean               8        0       3         3  \n",
       "Truck             229        1     386       360  \n",
       "\n",
       "[4 rows x 43 columns]"
      ]
     },
     "execution_count": 22,
     "metadata": {},
     "output_type": "execute_result"
    }
   ],
   "source": [
    "pd.crosstab(df[\"Country\"], df[\"Shipment Mode\"]).transpose()"
   ]
  },
  {
   "cell_type": "code",
   "execution_count": 23,
   "metadata": {},
   "outputs": [
    {
     "data": {
      "text/html": [
       "<div>\n",
       "<style scoped>\n",
       "    .dataframe tbody tr th:only-of-type {\n",
       "        vertical-align: middle;\n",
       "    }\n",
       "\n",
       "    .dataframe tbody tr th {\n",
       "        vertical-align: top;\n",
       "    }\n",
       "\n",
       "    .dataframe thead th {\n",
       "        text-align: right;\n",
       "    }\n",
       "</style>\n",
       "<table border=\"1\" class=\"dataframe\">\n",
       "  <thead>\n",
       "    <tr style=\"text-align: right;\">\n",
       "      <th></th>\n",
       "      <th>Fulfill Via</th>\n",
       "      <th>Unit of Measure (Per Pack)</th>\n",
       "      <th>Line Item Quantity</th>\n",
       "      <th>Line Item Value</th>\n",
       "      <th>Pack Price</th>\n",
       "      <th>Unit Price</th>\n",
       "      <th>First Line Designation</th>\n",
       "      <th>Line Item Insurance (USD)</th>\n",
       "      <th>Scheduled Delivery Date Year</th>\n",
       "      <th>Scheduled Delivery Date Month</th>\n",
       "      <th>Scheduled Delivery Date Day</th>\n",
       "      <th>Delivered to Client Date Year</th>\n",
       "      <th>Delivered to Client Date Month</th>\n",
       "      <th>Delivered to Client Date Day</th>\n",
       "      <th>Delivery Recorded Date Year</th>\n",
       "      <th>Delivery Recorded Date Month</th>\n",
       "      <th>Delivery Recorded Date Day</th>\n",
       "    </tr>\n",
       "  </thead>\n",
       "  <tbody>\n",
       "    <tr>\n",
       "      <th>Fulfill Via</th>\n",
       "      <td>1.000000</td>\n",
       "      <td>-0.066286</td>\n",
       "      <td>0.178380</td>\n",
       "      <td>0.134697</td>\n",
       "      <td>-0.263672</td>\n",
       "      <td>-0.176233</td>\n",
       "      <td>-0.107475</td>\n",
       "      <td>0.130599</td>\n",
       "      <td>-0.114086</td>\n",
       "      <td>-0.020507</td>\n",
       "      <td>0.181700</td>\n",
       "      <td>-0.112725</td>\n",
       "      <td>-0.040586</td>\n",
       "      <td>0.030974</td>\n",
       "      <td>-0.111667</td>\n",
       "      <td>-0.031409</td>\n",
       "      <td>-0.001005</td>\n",
       "    </tr>\n",
       "    <tr>\n",
       "      <th>Unit of Measure (Per Pack)</th>\n",
       "      <td>-0.066286</td>\n",
       "      <td>1.000000</td>\n",
       "      <td>-0.149098</td>\n",
       "      <td>-0.125568</td>\n",
       "      <td>0.096485</td>\n",
       "      <td>-0.136810</td>\n",
       "      <td>0.005729</td>\n",
       "      <td>-0.128585</td>\n",
       "      <td>-0.054088</td>\n",
       "      <td>0.000859</td>\n",
       "      <td>-0.007986</td>\n",
       "      <td>-0.054040</td>\n",
       "      <td>0.001577</td>\n",
       "      <td>-0.004242</td>\n",
       "      <td>-0.053755</td>\n",
       "      <td>-0.002557</td>\n",
       "      <td>-0.003095</td>\n",
       "    </tr>\n",
       "    <tr>\n",
       "      <th>Line Item Quantity</th>\n",
       "      <td>0.178380</td>\n",
       "      <td>-0.149098</td>\n",
       "      <td>1.000000</td>\n",
       "      <td>0.840036</td>\n",
       "      <td>-0.132249</td>\n",
       "      <td>-0.070575</td>\n",
       "      <td>0.063985</td>\n",
       "      <td>0.799634</td>\n",
       "      <td>0.109363</td>\n",
       "      <td>0.010238</td>\n",
       "      <td>0.040147</td>\n",
       "      <td>0.109251</td>\n",
       "      <td>0.004636</td>\n",
       "      <td>-0.014033</td>\n",
       "      <td>0.109208</td>\n",
       "      <td>0.007649</td>\n",
       "      <td>-0.025125</td>\n",
       "    </tr>\n",
       "    <tr>\n",
       "      <th>Line Item Value</th>\n",
       "      <td>0.134697</td>\n",
       "      <td>-0.125568</td>\n",
       "      <td>0.840036</td>\n",
       "      <td>1.000000</td>\n",
       "      <td>-0.016801</td>\n",
       "      <td>-0.023601</td>\n",
       "      <td>0.095950</td>\n",
       "      <td>0.960989</td>\n",
       "      <td>0.092921</td>\n",
       "      <td>0.002315</td>\n",
       "      <td>0.037306</td>\n",
       "      <td>0.092650</td>\n",
       "      <td>0.000503</td>\n",
       "      <td>0.004564</td>\n",
       "      <td>0.092425</td>\n",
       "      <td>0.004847</td>\n",
       "      <td>-0.000809</td>\n",
       "    </tr>\n",
       "    <tr>\n",
       "      <th>Pack Price</th>\n",
       "      <td>-0.263672</td>\n",
       "      <td>0.096485</td>\n",
       "      <td>-0.132249</td>\n",
       "      <td>-0.016801</td>\n",
       "      <td>1.000000</td>\n",
       "      <td>0.310204</td>\n",
       "      <td>0.120544</td>\n",
       "      <td>-0.014081</td>\n",
       "      <td>-0.050999</td>\n",
       "      <td>0.010333</td>\n",
       "      <td>-0.075506</td>\n",
       "      <td>-0.049853</td>\n",
       "      <td>0.013922</td>\n",
       "      <td>-0.019880</td>\n",
       "      <td>-0.050175</td>\n",
       "      <td>0.014286</td>\n",
       "      <td>-0.003452</td>\n",
       "    </tr>\n",
       "    <tr>\n",
       "      <th>Unit Price</th>\n",
       "      <td>-0.176233</td>\n",
       "      <td>-0.136810</td>\n",
       "      <td>-0.070575</td>\n",
       "      <td>-0.023601</td>\n",
       "      <td>0.310204</td>\n",
       "      <td>1.000000</td>\n",
       "      <td>0.087150</td>\n",
       "      <td>-0.025903</td>\n",
       "      <td>0.010756</td>\n",
       "      <td>-0.006372</td>\n",
       "      <td>-0.028432</td>\n",
       "      <td>0.011427</td>\n",
       "      <td>-0.003479</td>\n",
       "      <td>0.001083</td>\n",
       "      <td>0.011127</td>\n",
       "      <td>-0.001895</td>\n",
       "      <td>0.008265</td>\n",
       "    </tr>\n",
       "    <tr>\n",
       "      <th>First Line Designation</th>\n",
       "      <td>-0.107475</td>\n",
       "      <td>0.005729</td>\n",
       "      <td>0.063985</td>\n",
       "      <td>0.095950</td>\n",
       "      <td>0.120544</td>\n",
       "      <td>0.087150</td>\n",
       "      <td>1.000000</td>\n",
       "      <td>0.114658</td>\n",
       "      <td>-0.086759</td>\n",
       "      <td>0.034742</td>\n",
       "      <td>-0.061156</td>\n",
       "      <td>-0.084635</td>\n",
       "      <td>0.033472</td>\n",
       "      <td>-0.016052</td>\n",
       "      <td>-0.084120</td>\n",
       "      <td>0.028613</td>\n",
       "      <td>-0.018586</td>\n",
       "    </tr>\n",
       "    <tr>\n",
       "      <th>Line Item Insurance (USD)</th>\n",
       "      <td>0.130599</td>\n",
       "      <td>-0.128585</td>\n",
       "      <td>0.799634</td>\n",
       "      <td>0.960989</td>\n",
       "      <td>-0.014081</td>\n",
       "      <td>-0.025903</td>\n",
       "      <td>0.114658</td>\n",
       "      <td>1.000000</td>\n",
       "      <td>0.002791</td>\n",
       "      <td>0.012715</td>\n",
       "      <td>0.019502</td>\n",
       "      <td>0.003167</td>\n",
       "      <td>0.010685</td>\n",
       "      <td>0.000179</td>\n",
       "      <td>0.002840</td>\n",
       "      <td>0.012932</td>\n",
       "      <td>-0.002646</td>\n",
       "    </tr>\n",
       "    <tr>\n",
       "      <th>Scheduled Delivery Date Year</th>\n",
       "      <td>-0.114086</td>\n",
       "      <td>-0.054088</td>\n",
       "      <td>0.109363</td>\n",
       "      <td>0.092921</td>\n",
       "      <td>-0.050999</td>\n",
       "      <td>0.010756</td>\n",
       "      <td>-0.086759</td>\n",
       "      <td>0.002791</td>\n",
       "      <td>1.000000</td>\n",
       "      <td>-0.141438</td>\n",
       "      <td>0.089143</td>\n",
       "      <td>0.998026</td>\n",
       "      <td>-0.140033</td>\n",
       "      <td>0.003970</td>\n",
       "      <td>0.997816</td>\n",
       "      <td>-0.125705</td>\n",
       "      <td>0.002710</td>\n",
       "    </tr>\n",
       "    <tr>\n",
       "      <th>Scheduled Delivery Date Month</th>\n",
       "      <td>-0.020507</td>\n",
       "      <td>0.000859</td>\n",
       "      <td>0.010238</td>\n",
       "      <td>0.002315</td>\n",
       "      <td>0.010333</td>\n",
       "      <td>-0.006372</td>\n",
       "      <td>0.034742</td>\n",
       "      <td>0.012715</td>\n",
       "      <td>-0.141438</td>\n",
       "      <td>1.000000</td>\n",
       "      <td>-0.019805</td>\n",
       "      <td>-0.129285</td>\n",
       "      <td>0.888824</td>\n",
       "      <td>0.012431</td>\n",
       "      <td>-0.127541</td>\n",
       "      <td>0.875319</td>\n",
       "      <td>-0.009326</td>\n",
       "    </tr>\n",
       "    <tr>\n",
       "      <th>Scheduled Delivery Date Day</th>\n",
       "      <td>0.181700</td>\n",
       "      <td>-0.007986</td>\n",
       "      <td>0.040147</td>\n",
       "      <td>0.037306</td>\n",
       "      <td>-0.075506</td>\n",
       "      <td>-0.028432</td>\n",
       "      <td>-0.061156</td>\n",
       "      <td>0.019502</td>\n",
       "      <td>0.089143</td>\n",
       "      <td>-0.019805</td>\n",
       "      <td>1.000000</td>\n",
       "      <td>0.089939</td>\n",
       "      <td>-0.008561</td>\n",
       "      <td>0.598894</td>\n",
       "      <td>0.090507</td>\n",
       "      <td>0.002305</td>\n",
       "      <td>0.514002</td>\n",
       "    </tr>\n",
       "    <tr>\n",
       "      <th>Delivered to Client Date Year</th>\n",
       "      <td>-0.112725</td>\n",
       "      <td>-0.054040</td>\n",
       "      <td>0.109251</td>\n",
       "      <td>0.092650</td>\n",
       "      <td>-0.049853</td>\n",
       "      <td>0.011427</td>\n",
       "      <td>-0.084635</td>\n",
       "      <td>0.003167</td>\n",
       "      <td>0.998026</td>\n",
       "      <td>-0.129285</td>\n",
       "      <td>0.089939</td>\n",
       "      <td>1.000000</td>\n",
       "      <td>-0.153363</td>\n",
       "      <td>0.002242</td>\n",
       "      <td>0.999548</td>\n",
       "      <td>-0.137165</td>\n",
       "      <td>0.001606</td>\n",
       "    </tr>\n",
       "    <tr>\n",
       "      <th>Delivered to Client Date Month</th>\n",
       "      <td>-0.040586</td>\n",
       "      <td>0.001577</td>\n",
       "      <td>0.004636</td>\n",
       "      <td>0.000503</td>\n",
       "      <td>0.013922</td>\n",
       "      <td>-0.003479</td>\n",
       "      <td>0.033472</td>\n",
       "      <td>0.010685</td>\n",
       "      <td>-0.140033</td>\n",
       "      <td>0.888824</td>\n",
       "      <td>-0.008561</td>\n",
       "      <td>-0.153363</td>\n",
       "      <td>1.000000</td>\n",
       "      <td>-0.013403</td>\n",
       "      <td>-0.150239</td>\n",
       "      <td>0.970472</td>\n",
       "      <td>-0.030813</td>\n",
       "    </tr>\n",
       "    <tr>\n",
       "      <th>Delivered to Client Date Day</th>\n",
       "      <td>0.030974</td>\n",
       "      <td>-0.004242</td>\n",
       "      <td>-0.014033</td>\n",
       "      <td>0.004564</td>\n",
       "      <td>-0.019880</td>\n",
       "      <td>0.001083</td>\n",
       "      <td>-0.016052</td>\n",
       "      <td>0.000179</td>\n",
       "      <td>0.003970</td>\n",
       "      <td>0.012431</td>\n",
       "      <td>0.598894</td>\n",
       "      <td>0.002242</td>\n",
       "      <td>-0.013403</td>\n",
       "      <td>1.000000</td>\n",
       "      <td>0.003410</td>\n",
       "      <td>-0.006469</td>\n",
       "      <td>0.818867</td>\n",
       "    </tr>\n",
       "    <tr>\n",
       "      <th>Delivery Recorded Date Year</th>\n",
       "      <td>-0.111667</td>\n",
       "      <td>-0.053755</td>\n",
       "      <td>0.109208</td>\n",
       "      <td>0.092425</td>\n",
       "      <td>-0.050175</td>\n",
       "      <td>0.011127</td>\n",
       "      <td>-0.084120</td>\n",
       "      <td>0.002840</td>\n",
       "      <td>0.997816</td>\n",
       "      <td>-0.127541</td>\n",
       "      <td>0.090507</td>\n",
       "      <td>0.999548</td>\n",
       "      <td>-0.150239</td>\n",
       "      <td>0.003410</td>\n",
       "      <td>1.000000</td>\n",
       "      <td>-0.139948</td>\n",
       "      <td>0.001177</td>\n",
       "    </tr>\n",
       "    <tr>\n",
       "      <th>Delivery Recorded Date Month</th>\n",
       "      <td>-0.031409</td>\n",
       "      <td>-0.002557</td>\n",
       "      <td>0.007649</td>\n",
       "      <td>0.004847</td>\n",
       "      <td>0.014286</td>\n",
       "      <td>-0.001895</td>\n",
       "      <td>0.028613</td>\n",
       "      <td>0.012932</td>\n",
       "      <td>-0.125705</td>\n",
       "      <td>0.875319</td>\n",
       "      <td>0.002305</td>\n",
       "      <td>-0.137165</td>\n",
       "      <td>0.970472</td>\n",
       "      <td>-0.006469</td>\n",
       "      <td>-0.139948</td>\n",
       "      <td>1.000000</td>\n",
       "      <td>-0.043678</td>\n",
       "    </tr>\n",
       "    <tr>\n",
       "      <th>Delivery Recorded Date Day</th>\n",
       "      <td>-0.001005</td>\n",
       "      <td>-0.003095</td>\n",
       "      <td>-0.025125</td>\n",
       "      <td>-0.000809</td>\n",
       "      <td>-0.003452</td>\n",
       "      <td>0.008265</td>\n",
       "      <td>-0.018586</td>\n",
       "      <td>-0.002646</td>\n",
       "      <td>0.002710</td>\n",
       "      <td>-0.009326</td>\n",
       "      <td>0.514002</td>\n",
       "      <td>0.001606</td>\n",
       "      <td>-0.030813</td>\n",
       "      <td>0.818867</td>\n",
       "      <td>0.001177</td>\n",
       "      <td>-0.043678</td>\n",
       "      <td>1.000000</td>\n",
       "    </tr>\n",
       "  </tbody>\n",
       "</table>\n",
       "</div>"
      ],
      "text/plain": [
       "                                Fulfill Via  Unit of Measure (Per Pack)  \\\n",
       "Fulfill Via                        1.000000                   -0.066286   \n",
       "Unit of Measure (Per Pack)        -0.066286                    1.000000   \n",
       "Line Item Quantity                 0.178380                   -0.149098   \n",
       "Line Item Value                    0.134697                   -0.125568   \n",
       "Pack Price                        -0.263672                    0.096485   \n",
       "Unit Price                        -0.176233                   -0.136810   \n",
       "First Line Designation            -0.107475                    0.005729   \n",
       "Line Item Insurance (USD)          0.130599                   -0.128585   \n",
       "Scheduled Delivery Date Year      -0.114086                   -0.054088   \n",
       "Scheduled Delivery Date Month     -0.020507                    0.000859   \n",
       "Scheduled Delivery Date Day        0.181700                   -0.007986   \n",
       "Delivered to Client Date Year     -0.112725                   -0.054040   \n",
       "Delivered to Client Date Month    -0.040586                    0.001577   \n",
       "Delivered to Client Date Day       0.030974                   -0.004242   \n",
       "Delivery Recorded Date Year       -0.111667                   -0.053755   \n",
       "Delivery Recorded Date Month      -0.031409                   -0.002557   \n",
       "Delivery Recorded Date Day        -0.001005                   -0.003095   \n",
       "\n",
       "                                Line Item Quantity  Line Item Value  \\\n",
       "Fulfill Via                               0.178380         0.134697   \n",
       "Unit of Measure (Per Pack)               -0.149098        -0.125568   \n",
       "Line Item Quantity                        1.000000         0.840036   \n",
       "Line Item Value                           0.840036         1.000000   \n",
       "Pack Price                               -0.132249        -0.016801   \n",
       "Unit Price                               -0.070575        -0.023601   \n",
       "First Line Designation                    0.063985         0.095950   \n",
       "Line Item Insurance (USD)                 0.799634         0.960989   \n",
       "Scheduled Delivery Date Year              0.109363         0.092921   \n",
       "Scheduled Delivery Date Month             0.010238         0.002315   \n",
       "Scheduled Delivery Date Day               0.040147         0.037306   \n",
       "Delivered to Client Date Year             0.109251         0.092650   \n",
       "Delivered to Client Date Month            0.004636         0.000503   \n",
       "Delivered to Client Date Day             -0.014033         0.004564   \n",
       "Delivery Recorded Date Year               0.109208         0.092425   \n",
       "Delivery Recorded Date Month              0.007649         0.004847   \n",
       "Delivery Recorded Date Day               -0.025125        -0.000809   \n",
       "\n",
       "                                Pack Price  Unit Price  \\\n",
       "Fulfill Via                      -0.263672   -0.176233   \n",
       "Unit of Measure (Per Pack)        0.096485   -0.136810   \n",
       "Line Item Quantity               -0.132249   -0.070575   \n",
       "Line Item Value                  -0.016801   -0.023601   \n",
       "Pack Price                        1.000000    0.310204   \n",
       "Unit Price                        0.310204    1.000000   \n",
       "First Line Designation            0.120544    0.087150   \n",
       "Line Item Insurance (USD)        -0.014081   -0.025903   \n",
       "Scheduled Delivery Date Year     -0.050999    0.010756   \n",
       "Scheduled Delivery Date Month     0.010333   -0.006372   \n",
       "Scheduled Delivery Date Day      -0.075506   -0.028432   \n",
       "Delivered to Client Date Year    -0.049853    0.011427   \n",
       "Delivered to Client Date Month    0.013922   -0.003479   \n",
       "Delivered to Client Date Day     -0.019880    0.001083   \n",
       "Delivery Recorded Date Year      -0.050175    0.011127   \n",
       "Delivery Recorded Date Month      0.014286   -0.001895   \n",
       "Delivery Recorded Date Day       -0.003452    0.008265   \n",
       "\n",
       "                                First Line Designation  \\\n",
       "Fulfill Via                                  -0.107475   \n",
       "Unit of Measure (Per Pack)                    0.005729   \n",
       "Line Item Quantity                            0.063985   \n",
       "Line Item Value                               0.095950   \n",
       "Pack Price                                    0.120544   \n",
       "Unit Price                                    0.087150   \n",
       "First Line Designation                        1.000000   \n",
       "Line Item Insurance (USD)                     0.114658   \n",
       "Scheduled Delivery Date Year                 -0.086759   \n",
       "Scheduled Delivery Date Month                 0.034742   \n",
       "Scheduled Delivery Date Day                  -0.061156   \n",
       "Delivered to Client Date Year                -0.084635   \n",
       "Delivered to Client Date Month                0.033472   \n",
       "Delivered to Client Date Day                 -0.016052   \n",
       "Delivery Recorded Date Year                  -0.084120   \n",
       "Delivery Recorded Date Month                  0.028613   \n",
       "Delivery Recorded Date Day                   -0.018586   \n",
       "\n",
       "                                Line Item Insurance (USD)  \\\n",
       "Fulfill Via                                      0.130599   \n",
       "Unit of Measure (Per Pack)                      -0.128585   \n",
       "Line Item Quantity                               0.799634   \n",
       "Line Item Value                                  0.960989   \n",
       "Pack Price                                      -0.014081   \n",
       "Unit Price                                      -0.025903   \n",
       "First Line Designation                           0.114658   \n",
       "Line Item Insurance (USD)                        1.000000   \n",
       "Scheduled Delivery Date Year                     0.002791   \n",
       "Scheduled Delivery Date Month                    0.012715   \n",
       "Scheduled Delivery Date Day                      0.019502   \n",
       "Delivered to Client Date Year                    0.003167   \n",
       "Delivered to Client Date Month                   0.010685   \n",
       "Delivered to Client Date Day                     0.000179   \n",
       "Delivery Recorded Date Year                      0.002840   \n",
       "Delivery Recorded Date Month                     0.012932   \n",
       "Delivery Recorded Date Day                      -0.002646   \n",
       "\n",
       "                                Scheduled Delivery Date Year  \\\n",
       "Fulfill Via                                        -0.114086   \n",
       "Unit of Measure (Per Pack)                         -0.054088   \n",
       "Line Item Quantity                                  0.109363   \n",
       "Line Item Value                                     0.092921   \n",
       "Pack Price                                         -0.050999   \n",
       "Unit Price                                          0.010756   \n",
       "First Line Designation                             -0.086759   \n",
       "Line Item Insurance (USD)                           0.002791   \n",
       "Scheduled Delivery Date Year                        1.000000   \n",
       "Scheduled Delivery Date Month                      -0.141438   \n",
       "Scheduled Delivery Date Day                         0.089143   \n",
       "Delivered to Client Date Year                       0.998026   \n",
       "Delivered to Client Date Month                     -0.140033   \n",
       "Delivered to Client Date Day                        0.003970   \n",
       "Delivery Recorded Date Year                         0.997816   \n",
       "Delivery Recorded Date Month                       -0.125705   \n",
       "Delivery Recorded Date Day                          0.002710   \n",
       "\n",
       "                                Scheduled Delivery Date Month  \\\n",
       "Fulfill Via                                         -0.020507   \n",
       "Unit of Measure (Per Pack)                           0.000859   \n",
       "Line Item Quantity                                   0.010238   \n",
       "Line Item Value                                      0.002315   \n",
       "Pack Price                                           0.010333   \n",
       "Unit Price                                          -0.006372   \n",
       "First Line Designation                               0.034742   \n",
       "Line Item Insurance (USD)                            0.012715   \n",
       "Scheduled Delivery Date Year                        -0.141438   \n",
       "Scheduled Delivery Date Month                        1.000000   \n",
       "Scheduled Delivery Date Day                         -0.019805   \n",
       "Delivered to Client Date Year                       -0.129285   \n",
       "Delivered to Client Date Month                       0.888824   \n",
       "Delivered to Client Date Day                         0.012431   \n",
       "Delivery Recorded Date Year                         -0.127541   \n",
       "Delivery Recorded Date Month                         0.875319   \n",
       "Delivery Recorded Date Day                          -0.009326   \n",
       "\n",
       "                                Scheduled Delivery Date Day  \\\n",
       "Fulfill Via                                        0.181700   \n",
       "Unit of Measure (Per Pack)                        -0.007986   \n",
       "Line Item Quantity                                 0.040147   \n",
       "Line Item Value                                    0.037306   \n",
       "Pack Price                                        -0.075506   \n",
       "Unit Price                                        -0.028432   \n",
       "First Line Designation                            -0.061156   \n",
       "Line Item Insurance (USD)                          0.019502   \n",
       "Scheduled Delivery Date Year                       0.089143   \n",
       "Scheduled Delivery Date Month                     -0.019805   \n",
       "Scheduled Delivery Date Day                        1.000000   \n",
       "Delivered to Client Date Year                      0.089939   \n",
       "Delivered to Client Date Month                    -0.008561   \n",
       "Delivered to Client Date Day                       0.598894   \n",
       "Delivery Recorded Date Year                        0.090507   \n",
       "Delivery Recorded Date Month                       0.002305   \n",
       "Delivery Recorded Date Day                         0.514002   \n",
       "\n",
       "                                Delivered to Client Date Year  \\\n",
       "Fulfill Via                                         -0.112725   \n",
       "Unit of Measure (Per Pack)                          -0.054040   \n",
       "Line Item Quantity                                   0.109251   \n",
       "Line Item Value                                      0.092650   \n",
       "Pack Price                                          -0.049853   \n",
       "Unit Price                                           0.011427   \n",
       "First Line Designation                              -0.084635   \n",
       "Line Item Insurance (USD)                            0.003167   \n",
       "Scheduled Delivery Date Year                         0.998026   \n",
       "Scheduled Delivery Date Month                       -0.129285   \n",
       "Scheduled Delivery Date Day                          0.089939   \n",
       "Delivered to Client Date Year                        1.000000   \n",
       "Delivered to Client Date Month                      -0.153363   \n",
       "Delivered to Client Date Day                         0.002242   \n",
       "Delivery Recorded Date Year                          0.999548   \n",
       "Delivery Recorded Date Month                        -0.137165   \n",
       "Delivery Recorded Date Day                           0.001606   \n",
       "\n",
       "                                Delivered to Client Date Month  \\\n",
       "Fulfill Via                                          -0.040586   \n",
       "Unit of Measure (Per Pack)                            0.001577   \n",
       "Line Item Quantity                                    0.004636   \n",
       "Line Item Value                                       0.000503   \n",
       "Pack Price                                            0.013922   \n",
       "Unit Price                                           -0.003479   \n",
       "First Line Designation                                0.033472   \n",
       "Line Item Insurance (USD)                             0.010685   \n",
       "Scheduled Delivery Date Year                         -0.140033   \n",
       "Scheduled Delivery Date Month                         0.888824   \n",
       "Scheduled Delivery Date Day                          -0.008561   \n",
       "Delivered to Client Date Year                        -0.153363   \n",
       "Delivered to Client Date Month                        1.000000   \n",
       "Delivered to Client Date Day                         -0.013403   \n",
       "Delivery Recorded Date Year                          -0.150239   \n",
       "Delivery Recorded Date Month                          0.970472   \n",
       "Delivery Recorded Date Day                           -0.030813   \n",
       "\n",
       "                                Delivered to Client Date Day  \\\n",
       "Fulfill Via                                         0.030974   \n",
       "Unit of Measure (Per Pack)                         -0.004242   \n",
       "Line Item Quantity                                 -0.014033   \n",
       "Line Item Value                                     0.004564   \n",
       "Pack Price                                         -0.019880   \n",
       "Unit Price                                          0.001083   \n",
       "First Line Designation                             -0.016052   \n",
       "Line Item Insurance (USD)                           0.000179   \n",
       "Scheduled Delivery Date Year                        0.003970   \n",
       "Scheduled Delivery Date Month                       0.012431   \n",
       "Scheduled Delivery Date Day                         0.598894   \n",
       "Delivered to Client Date Year                       0.002242   \n",
       "Delivered to Client Date Month                     -0.013403   \n",
       "Delivered to Client Date Day                        1.000000   \n",
       "Delivery Recorded Date Year                         0.003410   \n",
       "Delivery Recorded Date Month                       -0.006469   \n",
       "Delivery Recorded Date Day                          0.818867   \n",
       "\n",
       "                                Delivery Recorded Date Year  \\\n",
       "Fulfill Via                                       -0.111667   \n",
       "Unit of Measure (Per Pack)                        -0.053755   \n",
       "Line Item Quantity                                 0.109208   \n",
       "Line Item Value                                    0.092425   \n",
       "Pack Price                                        -0.050175   \n",
       "Unit Price                                         0.011127   \n",
       "First Line Designation                            -0.084120   \n",
       "Line Item Insurance (USD)                          0.002840   \n",
       "Scheduled Delivery Date Year                       0.997816   \n",
       "Scheduled Delivery Date Month                     -0.127541   \n",
       "Scheduled Delivery Date Day                        0.090507   \n",
       "Delivered to Client Date Year                      0.999548   \n",
       "Delivered to Client Date Month                    -0.150239   \n",
       "Delivered to Client Date Day                       0.003410   \n",
       "Delivery Recorded Date Year                        1.000000   \n",
       "Delivery Recorded Date Month                      -0.139948   \n",
       "Delivery Recorded Date Day                         0.001177   \n",
       "\n",
       "                                Delivery Recorded Date Month  \\\n",
       "Fulfill Via                                        -0.031409   \n",
       "Unit of Measure (Per Pack)                         -0.002557   \n",
       "Line Item Quantity                                  0.007649   \n",
       "Line Item Value                                     0.004847   \n",
       "Pack Price                                          0.014286   \n",
       "Unit Price                                         -0.001895   \n",
       "First Line Designation                              0.028613   \n",
       "Line Item Insurance (USD)                           0.012932   \n",
       "Scheduled Delivery Date Year                       -0.125705   \n",
       "Scheduled Delivery Date Month                       0.875319   \n",
       "Scheduled Delivery Date Day                         0.002305   \n",
       "Delivered to Client Date Year                      -0.137165   \n",
       "Delivered to Client Date Month                      0.970472   \n",
       "Delivered to Client Date Day                       -0.006469   \n",
       "Delivery Recorded Date Year                        -0.139948   \n",
       "Delivery Recorded Date Month                        1.000000   \n",
       "Delivery Recorded Date Day                         -0.043678   \n",
       "\n",
       "                                Delivery Recorded Date Day  \n",
       "Fulfill Via                                      -0.001005  \n",
       "Unit of Measure (Per Pack)                       -0.003095  \n",
       "Line Item Quantity                               -0.025125  \n",
       "Line Item Value                                  -0.000809  \n",
       "Pack Price                                       -0.003452  \n",
       "Unit Price                                        0.008265  \n",
       "First Line Designation                           -0.018586  \n",
       "Line Item Insurance (USD)                        -0.002646  \n",
       "Scheduled Delivery Date Year                      0.002710  \n",
       "Scheduled Delivery Date Month                    -0.009326  \n",
       "Scheduled Delivery Date Day                       0.514002  \n",
       "Delivered to Client Date Year                     0.001606  \n",
       "Delivered to Client Date Month                   -0.030813  \n",
       "Delivered to Client Date Day                      0.818867  \n",
       "Delivery Recorded Date Year                       0.001177  \n",
       "Delivery Recorded Date Month                     -0.043678  \n",
       "Delivery Recorded Date Day                        1.000000  "
      ]
     },
     "execution_count": 23,
     "metadata": {},
     "output_type": "execute_result"
    }
   ],
   "source": [
    "df.corr()"
   ]
  },
  {
   "cell_type": "code",
   "execution_count": 24,
   "metadata": {},
   "outputs": [
    {
     "data": {
      "image/png": "[encoded data removed]",
      "text/plain": [
       "<Figure size 1080x576 with 2 Axes>"
      ]
     },
     "metadata": {
      "needs_background": "light"
     },
     "output_type": "display_data"
    }
   ],
   "source": [
    "plt.figure(figsize=(15, 8))\n",
    "sns.heatmap(df.corr(), annot=True);"
   ]
  },
  {
   "cell_type": "code",
   "execution_count": 25,
   "metadata": {},
   "outputs": [
    {
     "name": "stderr",
     "output_type": "stream",
     "text": [
      "D:\\Other-Languages\\Anaconda\\lib\\site-packages\\seaborn\\_decorators.py:36: FutureWarning:\n",
      "\n",
      "Pass the following variable as a keyword arg: x. From version 0.12, the only valid positional argument will be `data`, and passing other arguments without an explicit keyword will result in an error or misinterpretation.\n",
      "\n"
     ]
    },
    {
     "data": {
      "text/plain": [
       "Text(0.5, 0, 'Country Name')"
      ]
     },
     "execution_count": 25,
     "metadata": {},
     "output_type": "execute_result"
    },
    {
     "data": {
      "image/png": "[encoded data removed]",
      "text/plain": [
       "<Figure size 1584x432 with 1 Axes>"
      ]
     },
     "metadata": {
      "needs_background": "light"
     },
     "output_type": "display_data"
    }
   ],
   "source": [
    "DataSet = df.copy()\n",
    "ItemCount = DataSet[\"Country\"].value_counts().nlargest(8)\n",
    "sns.set_context(\"talk\",font_scale=1)\n",
    "plt.figure(figsize=(22,6))\n",
    "sns.countplot(DataSet['Country'],order = DataSet['Country'].value_counts().nlargest(8).index);\n",
    "plt.title('Top 8 Countries Wise Count \\n')\n",
    "plt.ylabel('Total Count')\n",
    "plt.xlabel('Country Name')"
   ]
  },
  {
   "cell_type": "code",
   "execution_count": 26,
   "metadata": {},
   "outputs": [
    {
     "data": {
      "text/plain": [
       "Text(0.5, 0, 'Country Name')"
      ]
     },
     "execution_count": 26,
     "metadata": {},
     "output_type": "execute_result"
    },
    {
     "data": {
      "image/png": "[encoded data removed]",
      "text/plain": [
       "<Figure size 1440x576 with 1 Axes>"
      ]
     },
     "metadata": {
      "needs_background": "light"
     },
     "output_type": "display_data"
    }
   ],
   "source": [
    "TotalPrice = DataSet.groupby(['Country'])['Pack Price'].sum().nlargest(15)\n",
    "plt.figure(figsize=(20,8))\n",
    "GraphData=DataSet.groupby(['Country'])['Pack Price'].sum().nlargest(15)\n",
    "GraphData.plot(kind='bar');\n",
    "plt.ylabel('Total Pack Price')\n",
    "plt.xlabel('Country Name')"
   ]
  },
  {
   "cell_type": "code",
   "execution_count": 27,
   "metadata": {},
   "outputs": [
    {
     "name": "stderr",
     "output_type": "stream",
     "text": [
      "D:\\Other-Languages\\Anaconda\\lib\\site-packages\\seaborn\\_decorators.py:36: FutureWarning:\n",
      "\n",
      "Pass the following variable as a keyword arg: x. From version 0.12, the only valid positional argument will be `data`, and passing other arguments without an explicit keyword will result in an error or misinterpretation.\n",
      "\n"
     ]
    },
    {
     "data": {
      "text/plain": [
       "Text(0.5, 0, 'First Line Designation')"
      ]
     },
     "execution_count": 27,
     "metadata": {},
     "output_type": "execute_result"
    },
    {
     "data": {
      "image/png": "[encoded data removed]",
      "text/plain": [
       "<Figure size 360x432 with 1 Axes>"
      ]
     },
     "metadata": {
      "needs_background": "light"
     },
     "output_type": "display_data"
    }
   ],
   "source": [
    "plt.figure(figsize=(5,6))\n",
    "sns.countplot(DataSet['First Line Designation'],order = DataSet['First Line Designation'].value_counts().nlargest(10).index)\n",
    "plt.title('First Line Designation Wise Count \\n')\n",
    "plt.ylabel('Total Count')\n",
    "plt.xlabel('First Line Designation')"
   ]
  },
  {
   "cell_type": "code",
   "execution_count": 28,
   "metadata": {},
   "outputs": [
    {
     "data": {
      "application/vnd.plotly.v1+json": {
       "config": {
        "linkText": "Export to plot.ly",
        "plotlyServerURL": "https://plot.ly",
        "showLink": false
       },
       "data": [
        {
         "labels": [
          "Air",
          "Truck",
          "Air Charter",
          "Ocean"
         ],
         "type": "pie",
         "values": [
          61.35086310718587,
          28.402248093135285,
          6.523484544359695,
          3.723404255319149
         ]
        }
       ],
       "layout": {
        "template": {
         "data": {
          "bar": [
           {
            "error_x": {
             "color": "#2a3f5f"
            },
            "error_y": {
             "color": "#2a3f5f"
            },
            "marker": {
             "line": {
              "color": "#E5ECF6",
              "width": 0.5
             },
             "pattern": {
              "fillmode": "overlay",
              "size": 10,
              "solidity": 0.2
             }
            },
            "type": "bar"
           }
          ],
          "barpolar": [
           {
            "marker": {
             "line": {
              "color": "#E5ECF6",
              "width": 0.5
             },
             "pattern": {
              "fillmode": "overlay",
              "size": 10,
              "solidity": 0.2
             }
            },
            "type": "barpolar"
           }
          ],
          "carpet": [
           {
            "aaxis": {
             "endlinecolor": "#2a3f5f",
             "gridcolor": "white",
             "linecolor": "white",
             "minorgridcolor": "white",
             "startlinecolor": "#2a3f5f"
            },
            "baxis": {
             "endlinecolor": "#2a3f5f",
             "gridcolor": "white",
             "linecolor": "white",
             "minorgridcolor": "white",
             "startlinecolor": "#2a3f5f"
            },
            "type": "carpet"
           }
          ],
          "choropleth": [
           {
            "colorbar": {
             "outlinewidth": 0,
             "ticks": ""
            },
            "type": "choropleth"
           }
          ],
          "contour": [
           {
            "colorbar": {
             "outlinewidth": 0,
             "ticks": ""
            },
            "colorscale": [
             [
              0,
              "#0d0887"
             ],
             [
              0.1111111111111111,
              "#46039f"
             ],
             [
              0.2222222222222222,
              "#7201a8"
             ],
             [
              0.3333333333333333,
              "#9c179e"
             ],
             [
              0.4444444444444444,
              "#bd3786"
             ],
             [
              0.5555555555555556,
              "#d8576b"
             ],
             [
              0.6666666666666666,
              "#ed7953"
             ],
             [
              0.7777777777777778,
              "#fb9f3a"
             ],
             [
              0.8888888888888888,
              "#fdca26"
             ],
             [
              1,
              "#f0f921"
             ]
            ],
            "type": "contour"
           }
          ],
          "contourcarpet": [
           {
            "colorbar": {
             "outlinewidth": 0,
             "ticks": ""
            },
            "type": "contourcarpet"
           }
          ],
          "heatmap": [
           {
            "colorbar": {
             "outlinewidth": 0,
             "ticks": ""
            },
            "colorscale": [
             [
              0,
              "#0d0887"
             ],
             [
              0.1111111111111111,
              "#46039f"
             ],
             [
              0.2222222222222222,
              "#7201a8"
             ],
             [
              0.3333333333333333,
              "#9c179e"
             ],
             [
              0.4444444444444444,
              "#bd3786"
             ],
             [
              0.5555555555555556,
              "#d8576b"
             ],
             [
              0.6666666666666666,
              "#ed7953"
             ],
             [
              0.7777777777777778,
              "#fb9f3a"
             ],
             [
              0.8888888888888888,
              "#fdca26"
             ],
             [
              1,
              "#f0f921"
             ]
            ],
            "type": "heatmap"
           }
          ],
          "heatmapgl": [
           {
            "colorbar": {
             "outlinewidth": 0,
             "ticks": ""
            },
            "colorscale": [
             [
              0,
              "#0d0887"
             ],
             [
              0.1111111111111111,
              "#46039f"
             ],
             [
              0.2222222222222222,
              "#7201a8"
             ],
             [
              0.3333333333333333,
              "#9c179e"
             ],
             [
              0.4444444444444444,
              "#bd3786"
             ],
             [
              0.5555555555555556,
              "#d8576b"
             ],
             [
              0.6666666666666666,
              "#ed7953"
             ],
             [
              0.7777777777777778,
              "#fb9f3a"
             ],
             [
              0.8888888888888888,
              "#fdca26"
             ],
             [
              1,
              "#f0f921"
             ]
            ],
            "type": "heatmapgl"
           }
          ],
          "histogram": [
           {
            "marker": {
             "pattern": {
              "fillmode": "overlay",
              "size": 10,
              "solidity": 0.2
             }
            },
            "type": "histogram"
           }
          ],
          "histogram2d": [
           {
            "colorbar": {
             "outlinewidth": 0,
             "ticks": ""
            },
            "colorscale": [
             [
              0,
              "#0d0887"
             ],
             [
              0.1111111111111111,
              "#46039f"
             ],
             [
              0.2222222222222222,
              "#7201a8"
             ],
             [
              0.3333333333333333,
              "#9c179e"
             ],
             [
              0.4444444444444444,
              "#bd3786"
             ],
             [
              0.5555555555555556,
              "#d8576b"
             ],
             [
              0.6666666666666666,
              "#ed7953"
             ],
             [
              0.7777777777777778,
              "#fb9f3a"
             ],
             [
              0.8888888888888888,
              "#fdca26"
             ],
             [
              1,
              "#f0f921"
             ]
            ],
            "type": "histogram2d"
           }
          ],
          "histogram2dcontour": [
           {
            "colorbar": {
             "outlinewidth": 0,
             "ticks": ""
            },
            "colorscale": [
             [
              0,
              "#0d0887"
             ],
             [
              0.1111111111111111,
              "#46039f"
             ],
             [
              0.2222222222222222,
              "#7201a8"
             ],
             [
              0.3333333333333333,
              "#9c179e"
             ],
             [
              0.4444444444444444,
              "#bd3786"
             ],
             [
              0.5555555555555556,
              "#d8576b"
             ],
             [
              0.6666666666666666,
              "#ed7953"
             ],
             [
              0.7777777777777778,
              "#fb9f3a"
             ],
             [
              0.8888888888888888,
              "#fdca26"
             ],
             [
              1,
              "#f0f921"
             ]
            ],
            "type": "histogram2dcontour"
           }
          ],
          "mesh3d": [
           {
            "colorbar": {
             "outlinewidth": 0,
             "ticks": ""
            },
            "type": "mesh3d"
           }
          ],
          "parcoords": [
           {
            "line": {
             "colorbar": {
              "outlinewidth": 0,
              "ticks": ""
             }
            },
            "type": "parcoords"
           }
          ],
          "pie": [
           {
            "automargin": true,
            "type": "pie"
           }
          ],
          "scatter": [
           {
            "marker": {
             "colorbar": {
              "outlinewidth": 0,
              "ticks": ""
             }
            },
            "type": "scatter"
           }
          ],
          "scatter3d": [
           {
            "line": {
             "colorbar": {
              "outlinewidth": 0,
              "ticks": ""
             }
            },
            "marker": {
             "colorbar": {
              "outlinewidth": 0,
              "ticks": ""
             }
            },
            "type": "scatter3d"
           }
          ],
          "scattercarpet": [
           {
            "marker": {
             "colorbar": {
              "outlinewidth": 0,
              "ticks": ""
             }
            },
            "type": "scattercarpet"
           }
          ],
          "scattergeo": [
           {
            "marker": {
             "colorbar": {
              "outlinewidth": 0,
              "ticks": ""
             }
            },
            "type": "scattergeo"
           }
          ],
          "scattergl": [
           {
            "marker": {
             "colorbar": {
              "outlinewidth": 0,
              "ticks": ""
             }
            },
            "type": "scattergl"
           }
          ],
          "scattermapbox": [
           {
            "marker": {
             "colorbar": {
              "outlinewidth": 0,
              "ticks": ""
             }
            },
            "type": "scattermapbox"
           }
          ],
          "scatterpolar": [
           {
            "marker": {
             "colorbar": {
              "outlinewidth": 0,
              "ticks": ""
             }
            },
            "type": "scatterpolar"
           }
          ],
          "scatterpolargl": [
           {
            "marker": {
             "colorbar": {
              "outlinewidth": 0,
              "ticks": ""
             }
            },
            "type": "scatterpolargl"
           }
          ],
          "scatterternary": [
           {
            "marker": {
             "colorbar": {
              "outlinewidth": 0,
              "ticks": ""
             }
            },
            "type": "scatterternary"
           }
          ],
          "surface": [
           {
            "colorbar": {
             "outlinewidth": 0,
             "ticks": ""
            },
            "colorscale": [
             [
              0,
              "#0d0887"
             ],
             [
              0.1111111111111111,
              "#46039f"
             ],
             [
              0.2222222222222222,
              "#7201a8"
             ],
             [
              0.3333333333333333,
              "#9c179e"
             ],
             [
              0.4444444444444444,
              "#bd3786"
             ],
             [
              0.5555555555555556,
              "#d8576b"
             ],
             [
              0.6666666666666666,
              "#ed7953"
             ],
             [
              0.7777777777777778,
              "#fb9f3a"
             ],
             [
              0.8888888888888888,
              "#fdca26"
             ],
             [
              1,
              "#f0f921"
             ]
            ],
            "type": "surface"
           }
          ],
          "table": [
           {
            "cells": {
             "fill": {
              "color": "#EBF0F8"
             },
             "line": {
              "color": "white"
             }
            },
            "header": {
             "fill": {
              "color": "#C8D4E3"
             },
             "line": {
              "color": "white"
             }
            },
            "type": "table"
           }
          ]
         },
         "layout": {
          "annotationdefaults": {
           "arrowcolor": "#2a3f5f",
           "arrowhead": 0,
           "arrowwidth": 1
          },
          "autotypenumbers": "strict",
          "coloraxis": {
           "colorbar": {
            "outlinewidth": 0,
            "ticks": ""
           }
          },
          "colorscale": {
           "diverging": [
            [
             0,
             "#8e0152"
            ],
            [
             0.1,
             "#c51b7d"
            ],
            [
             0.2,
             "#de77ae"
            ],
            [
             0.3,
             "#f1b6da"
            ],
            [
             0.4,
             "#fde0ef"
            ],
            [
             0.5,
             "#f7f7f7"
            ],
            [
             0.6,
             "#e6f5d0"
            ],
            [
             0.7,
             "#b8e186"
            ],
            [
             0.8,
             "#7fbc41"
            ],
            [
             0.9,
             "#4d9221"
            ],
            [
             1,
             "#276419"
            ]
           ],
           "sequential": [
            [
             0,
             "#0d0887"
            ],
            [
             0.1111111111111111,
             "#46039f"
            ],
            [
             0.2222222222222222,
             "#7201a8"
            ],
            [
             0.3333333333333333,
             "#9c179e"
            ],
            [
             0.4444444444444444,
             "#bd3786"
            ],
            [
             0.5555555555555556,
             "#d8576b"
            ],
            [
             0.6666666666666666,
             "#ed7953"
            ],
            [
             0.7777777777777778,
             "#fb9f3a"
            ],
            [
             0.8888888888888888,
             "#fdca26"
            ],
            [
             1,
             "#f0f921"
            ]
           ],
           "sequentialminus": [
            [
             0,
             "#0d0887"
            ],
            [
             0.1111111111111111,
             "#46039f"
            ],
            [
             0.2222222222222222,
             "#7201a8"
            ],
            [
             0.3333333333333333,
             "#9c179e"
            ],
            [
             0.4444444444444444,
             "#bd3786"
            ],
            [
             0.5555555555555556,
             "#d8576b"
            ],
            [
             0.6666666666666666,
             "#ed7953"
            ],
            [
             0.7777777777777778,
             "#fb9f3a"
            ],
            [
             0.8888888888888888,
             "#fdca26"
            ],
            [
             1,
             "#f0f921"
            ]
           ]
          },
          "colorway": [
           "#636efa",
           "#EF553B",
           "#00cc96",
           "#ab63fa",
           "#FFA15A",
           "#19d3f3",
           "#FF6692",
           "#B6E880",
           "#FF97FF",
           "#FECB52"
          ],
          "font": {
           "color": "#2a3f5f"
          },
          "geo": {
           "bgcolor": "white",
           "lakecolor": "white",
           "landcolor": "#E5ECF6",
           "showlakes": true,
           "showland": true,
           "subunitcolor": "white"
          },
          "hoverlabel": {
           "align": "left"
          },
          "hovermode": "closest",
          "mapbox": {
           "style": "light"
          },
          "paper_bgcolor": "white",
          "plot_bgcolor": "#E5ECF6",
          "polar": {
           "angularaxis": {
            "gridcolor": "white",
            "linecolor": "white",
            "ticks": ""
           },
           "bgcolor": "#E5ECF6",
           "radialaxis": {
            "gridcolor": "white",
            "linecolor": "white",
            "ticks": ""
           }
          },
          "scene": {
           "xaxis": {
            "backgroundcolor": "#E5ECF6",
            "gridcolor": "white",
            "gridwidth": 2,
            "linecolor": "white",
            "showbackground": true,
            "ticks": "",
            "zerolinecolor": "white"
           },
           "yaxis": {
            "backgroundcolor": "#E5ECF6",
            "gridcolor": "white",
            "gridwidth": 2,
            "linecolor": "white",
            "showbackground": true,
            "ticks": "",
            "zerolinecolor": "white"
           },
           "zaxis": {
            "backgroundcolor": "#E5ECF6",
            "gridcolor": "white",
            "gridwidth": 2,
            "linecolor": "white",
            "showbackground": true,
            "ticks": "",
            "zerolinecolor": "white"
           }
          },
          "shapedefaults": {
           "line": {
            "color": "#2a3f5f"
           }
          },
          "ternary": {
           "aaxis": {
            "gridcolor": "white",
            "linecolor": "white",
            "ticks": ""
           },
           "baxis": {
            "gridcolor": "white",
            "linecolor": "white",
            "ticks": ""
           },
           "bgcolor": "#E5ECF6",
           "caxis": {
            "gridcolor": "white",
            "linecolor": "white",
            "ticks": ""
           }
          },
          "title": {
           "x": 0.05
          },
          "xaxis": {
           "automargin": true,
           "gridcolor": "white",
           "linecolor": "white",
           "ticks": "",
           "title": {
            "standoff": 15
           },
           "zerolinecolor": "white",
           "zerolinewidth": 2
          },
          "yaxis": {
           "automargin": true,
           "gridcolor": "white",
           "linecolor": "white",
           "ticks": "",
           "title": {
            "standoff": 15
           },
           "zerolinecolor": "white",
           "zerolinewidth": 2
          }
         }
        },
        "title": {
         "text": "Shipment Mode"
        }
       }
      },
      "text/html": [
       "<div>                            <div id=\"66be16f2-b4d4-4c9d-a4ca-7d7c9bf8feb4\" class=\"plotly-graph-div\" style=\"height:525px; width:100%;\"></div>            <script type=\"text/javascript\">                require([\"plotly\"], function(Plotly) {                    window.PLOTLYENV=window.PLOTLYENV || {};                                    if (document.getElementById(\"66be16f2-b4d4-4c9d-a4ca-7d7c9bf8feb4\")) {                    Plotly.newPlot(                        \"66be16f2-b4d4-4c9d-a4ca-7d7c9bf8feb4\",                        [{\"labels\":[\"Air\",\"Truck\",\"Air Charter\",\"Ocean\"],\"values\":[61.35086310718587,28.402248093135285,6.523484544359695,3.723404255319149],\"type\":\"pie\"}],                        {\"template\":{\"data\":{\"barpolar\":[{\"marker\":{\"line\":{\"color\":\"#E5ECF6\",\"width\":0.5},\"pattern\":{\"fillmode\":\"overlay\",\"size\":10,\"solidity\":0.2}},\"type\":\"barpolar\"}],\"bar\":[{\"error_x\":{\"color\":\"#2a3f5f\"},\"error_y\":{\"color\":\"#2a3f5f\"},\"marker\":{\"line\":{\"color\":\"#E5ECF6\",\"width\":0.5},\"pattern\":{\"fillmode\":\"overlay\",\"size\":10,\"solidity\":0.2}},\"type\":\"bar\"}],\"carpet\":[{\"aaxis\":{\"endlinecolor\":\"#2a3f5f\",\"gridcolor\":\"white\",\"linecolor\":\"white\",\"minorgridcolor\":\"white\",\"startlinecolor\":\"#2a3f5f\"},\"baxis\":{\"endlinecolor\":\"#2a3f5f\",\"gridcolor\":\"white\",\"linecolor\":\"white\",\"minorgridcolor\":\"white\",\"startlinecolor\":\"#2a3f5f\"},\"type\":\"carpet\"}],\"choropleth\":[{\"colorbar\":{\"outlinewidth\":0,\"ticks\":\"\"},\"type\":\"choropleth\"}],\"contourcarpet\":[{\"colorbar\":{\"outlinewidth\":0,\"ticks\":\"\"},\"type\":\"contourcarpet\"}],\"contour\":[{\"colorbar\":{\"outlinewidth\":0,\"ticks\":\"\"},\"colorscale\":[[0.0,\"#0d0887\"],[0.1111111111111111,\"#46039f\"],[0.2222222222222222,\"#7201a8\"],[0.3333333333333333,\"#9c179e\"],[0.4444444444444444,\"#bd3786\"],[0.5555555555555556,\"#d8576b\"],[0.6666666666666666,\"#ed7953\"],[0.7777777777777778,\"#fb9f3a\"],[0.8888888888888888,\"#fdca26\"],[1.0,\"#f0f921\"]],\"type\":\"contour\"}],\"heatmapgl\":[{\"colorbar\":{\"outlinewidth\":0,\"ticks\":\"\"},\"colorscale\":[[0.0,\"#0d0887\"],[0.1111111111111111,\"#46039f\"],[0.2222222222222222,\"#7201a8\"],[0.3333333333333333,\"#9c179e\"],[0.4444444444444444,\"#bd3786\"],[0.5555555555555556,\"#d8576b\"],[0.6666666666666666,\"#ed7953\"],[0.7777777777777778,\"#fb9f3a\"],[0.8888888888888888,\"#fdca26\"],[1.0,\"#f0f921\"]],\"type\":\"heatmapgl\"}],\"heatmap\":[{\"colorbar\":{\"outlinewidth\":0,\"ticks\":\"\"},\"colorscale\":[[0.0,\"#0d0887\"],[0.1111111111111111,\"#46039f\"],[0.2222222222222222,\"#7201a8\"],[0.3333333333333333,\"#9c179e\"],[0.4444444444444444,\"#bd3786\"],[0.5555555555555556,\"#d8576b\"],[0.6666666666666666,\"#ed7953\"],[0.7777777777777778,\"#fb9f3a\"],[0.8888888888888888,\"#fdca26\"],[1.0,\"#f0f921\"]],\"type\":\"heatmap\"}],\"histogram2dcontour\":[{\"colorbar\":{\"outlinewidth\":0,\"ticks\":\"\"},\"colorscale\":[[0.0,\"#0d0887\"],[0.1111111111111111,\"#46039f\"],[0.2222222222222222,\"#7201a8\"],[0.3333333333333333,\"#9c179e\"],[0.4444444444444444,\"#bd3786\"],[0.5555555555555556,\"#d8576b\"],[0.6666666666666666,\"#ed7953\"],[0.7777777777777778,\"#fb9f3a\"],[0.8888888888888888,\"#fdca26\"],[1.0,\"#f0f921\"]],\"type\":\"histogram2dcontour\"}],\"histogram2d\":[{\"colorbar\":{\"outlinewidth\":0,\"ticks\":\"\"},\"colorscale\":[[0.0,\"#0d0887\"],[0.1111111111111111,\"#46039f\"],[0.2222222222222222,\"#7201a8\"],[0.3333333333333333,\"#9c179e\"],[0.4444444444444444,\"#bd3786\"],[0.5555555555555556,\"#d8576b\"],[0.6666666666666666,\"#ed7953\"],[0.7777777777777778,\"#fb9f3a\"],[0.8888888888888888,\"#fdca26\"],[1.0,\"#f0f921\"]],\"type\":\"histogram2d\"}],\"histogram\":[{\"marker\":{\"pattern\":{\"fillmode\":\"overlay\",\"size\":10,\"solidity\":0.2}},\"type\":\"histogram\"}],\"mesh3d\":[{\"colorbar\":{\"outlinewidth\":0,\"ticks\":\"\"},\"type\":\"mesh3d\"}],\"parcoords\":[{\"line\":{\"colorbar\":{\"outlinewidth\":0,\"ticks\":\"\"}},\"type\":\"parcoords\"}],\"pie\":[{\"automargin\":true,\"type\":\"pie\"}],\"scatter3d\":[{\"line\":{\"colorbar\":{\"outlinewidth\":0,\"ticks\":\"\"}},\"marker\":{\"colorbar\":{\"outlinewidth\":0,\"ticks\":\"\"}},\"type\":\"scatter3d\"}],\"scattercarpet\":[{\"marker\":{\"colorbar\":{\"outlinewidth\":0,\"ticks\":\"\"}},\"type\":\"scattercarpet\"}],\"scattergeo\":[{\"marker\":{\"colorbar\":{\"outlinewidth\":0,\"ticks\":\"\"}},\"type\":\"scattergeo\"}],\"scattergl\":[{\"marker\":{\"colorbar\":{\"outlinewidth\":0,\"ticks\":\"\"}},\"type\":\"scattergl\"}],\"scattermapbox\":[{\"marker\":{\"colorbar\":{\"outlinewidth\":0,\"ticks\":\"\"}},\"type\":\"scattermapbox\"}],\"scatterpolargl\":[{\"marker\":{\"colorbar\":{\"outlinewidth\":0,\"ticks\":\"\"}},\"type\":\"scatterpolargl\"}],\"scatterpolar\":[{\"marker\":{\"colorbar\":{\"outlinewidth\":0,\"ticks\":\"\"}},\"type\":\"scatterpolar\"}],\"scatter\":[{\"marker\":{\"colorbar\":{\"outlinewidth\":0,\"ticks\":\"\"}},\"type\":\"scatter\"}],\"scatterternary\":[{\"marker\":{\"colorbar\":{\"outlinewidth\":0,\"ticks\":\"\"}},\"type\":\"scatterternary\"}],\"surface\":[{\"colorbar\":{\"outlinewidth\":0,\"ticks\":\"\"},\"colorscale\":[[0.0,\"#0d0887\"],[0.1111111111111111,\"#46039f\"],[0.2222222222222222,\"#7201a8\"],[0.3333333333333333,\"#9c179e\"],[0.4444444444444444,\"#bd3786\"],[0.5555555555555556,\"#d8576b\"],[0.6666666666666666,\"#ed7953\"],[0.7777777777777778,\"#fb9f3a\"],[0.8888888888888888,\"#fdca26\"],[1.0,\"#f0f921\"]],\"type\":\"surface\"}],\"table\":[{\"cells\":{\"fill\":{\"color\":\"#EBF0F8\"},\"line\":{\"color\":\"white\"}},\"header\":{\"fill\":{\"color\":\"#C8D4E3\"},\"line\":{\"color\":\"white\"}},\"type\":\"table\"}]},\"layout\":{\"annotationdefaults\":{\"arrowcolor\":\"#2a3f5f\",\"arrowhead\":0,\"arrowwidth\":1},\"autotypenumbers\":\"strict\",\"coloraxis\":{\"colorbar\":{\"outlinewidth\":0,\"ticks\":\"\"}},\"colorscale\":{\"diverging\":[[0,\"#8e0152\"],[0.1,\"#c51b7d\"],[0.2,\"#de77ae\"],[0.3,\"#f1b6da\"],[0.4,\"#fde0ef\"],[0.5,\"#f7f7f7\"],[0.6,\"#e6f5d0\"],[0.7,\"#b8e186\"],[0.8,\"#7fbc41\"],[0.9,\"#4d9221\"],[1,\"#276419\"]],\"sequential\":[[0.0,\"#0d0887\"],[0.1111111111111111,\"#46039f\"],[0.2222222222222222,\"#7201a8\"],[0.3333333333333333,\"#9c179e\"],[0.4444444444444444,\"#bd3786\"],[0.5555555555555556,\"#d8576b\"],[0.6666666666666666,\"#ed7953\"],[0.7777777777777778,\"#fb9f3a\"],[0.8888888888888888,\"#fdca26\"],[1.0,\"#f0f921\"]],\"sequentialminus\":[[0.0,\"#0d0887\"],[0.1111111111111111,\"#46039f\"],[0.2222222222222222,\"#7201a8\"],[0.3333333333333333,\"#9c179e\"],[0.4444444444444444,\"#bd3786\"],[0.5555555555555556,\"#d8576b\"],[0.6666666666666666,\"#ed7953\"],[0.7777777777777778,\"#fb9f3a\"],[0.8888888888888888,\"#fdca26\"],[1.0,\"#f0f921\"]]},\"colorway\":[\"#636efa\",\"#EF553B\",\"#00cc96\",\"#ab63fa\",\"#FFA15A\",\"#19d3f3\",\"#FF6692\",\"#B6E880\",\"#FF97FF\",\"#FECB52\"],\"font\":{\"color\":\"#2a3f5f\"},\"geo\":{\"bgcolor\":\"white\",\"lakecolor\":\"white\",\"landcolor\":\"#E5ECF6\",\"showlakes\":true,\"showland\":true,\"subunitcolor\":\"white\"},\"hoverlabel\":{\"align\":\"left\"},\"hovermode\":\"closest\",\"mapbox\":{\"style\":\"light\"},\"paper_bgcolor\":\"white\",\"plot_bgcolor\":\"#E5ECF6\",\"polar\":{\"angularaxis\":{\"gridcolor\":\"white\",\"linecolor\":\"white\",\"ticks\":\"\"},\"bgcolor\":\"#E5ECF6\",\"radialaxis\":{\"gridcolor\":\"white\",\"linecolor\":\"white\",\"ticks\":\"\"}},\"scene\":{\"xaxis\":{\"backgroundcolor\":\"#E5ECF6\",\"gridcolor\":\"white\",\"gridwidth\":2,\"linecolor\":\"white\",\"showbackground\":true,\"ticks\":\"\",\"zerolinecolor\":\"white\"},\"yaxis\":{\"backgroundcolor\":\"#E5ECF6\",\"gridcolor\":\"white\",\"gridwidth\":2,\"linecolor\":\"white\",\"showbackground\":true,\"ticks\":\"\",\"zerolinecolor\":\"white\"},\"zaxis\":{\"backgroundcolor\":\"#E5ECF6\",\"gridcolor\":\"white\",\"gridwidth\":2,\"linecolor\":\"white\",\"showbackground\":true,\"ticks\":\"\",\"zerolinecolor\":\"white\"}},\"shapedefaults\":{\"line\":{\"color\":\"#2a3f5f\"}},\"ternary\":{\"aaxis\":{\"gridcolor\":\"white\",\"linecolor\":\"white\",\"ticks\":\"\"},\"baxis\":{\"gridcolor\":\"white\",\"linecolor\":\"white\",\"ticks\":\"\"},\"bgcolor\":\"#E5ECF6\",\"caxis\":{\"gridcolor\":\"white\",\"linecolor\":\"white\",\"ticks\":\"\"}},\"title\":{\"x\":0.05},\"xaxis\":{\"automargin\":true,\"gridcolor\":\"white\",\"linecolor\":\"white\",\"ticks\":\"\",\"title\":{\"standoff\":15},\"zerolinecolor\":\"white\",\"zerolinewidth\":2},\"yaxis\":{\"automargin\":true,\"gridcolor\":\"white\",\"linecolor\":\"white\",\"ticks\":\"\",\"title\":{\"standoff\":15},\"zerolinecolor\":\"white\",\"zerolinewidth\":2}}},\"title\":{\"text\":\"Shipment Mode\"}},                        {\"responsive\": true}                    ).then(function(){\n",
       "                            \n",
       "var gd = document.getElementById('66be16f2-b4d4-4c9d-a4ca-7d7c9bf8feb4');\n",
       "var x = new MutationObserver(function (mutations, observer) {{\n",
       "        var display = window.getComputedStyle(gd).display;\n",
       "        if (!display || display === 'none') {{\n",
       "            console.log([gd, 'removed!']);\n",
       "            Plotly.purge(gd);\n",
       "            observer.disconnect();\n",
       "        }}\n",
       "}});\n",
       "\n",
       "// Listen for the removal of the full notebook cells\n",
       "var notebookContainer = gd.closest('#notebook-container');\n",
       "if (notebookContainer) {{\n",
       "    x.observe(notebookContainer, {childList: true});\n",
       "}}\n",
       "\n",
       "// Listen for the clearing of the current output cell\n",
       "var outputEl = gd.closest('.output');\n",
       "if (outputEl) {{\n",
       "    x.observe(outputEl, {childList: true});\n",
       "}}\n",
       "\n",
       "                        })                };                });            </script>        </div>"
      ]
     },
     "metadata": {},
     "output_type": "display_data"
    }
   ],
   "source": [
    "ShippingMode = DataSet[\"Shipment Mode\"].value_counts()\n",
    "labels = (np.array(ShippingMode.index))\n",
    "sizes = (np.array((ShippingMode / ShippingMode.sum())*100))\n",
    "\n",
    "trace = go.Pie(labels=labels, values=sizes)\n",
    "layout = go.Layout(title=\"Shipment Mode\")\n",
    "dat = [trace]\n",
    "fig = go.Figure(data=dat, layout=layout)\n",
    "py.iplot(fig, filename=\"Shipment Mode\")"
   ]
  },
  {
   "cell_type": "code",
   "execution_count": 29,
   "metadata": {},
   "outputs": [
    {
     "name": "stdout",
     "output_type": "stream",
     "text": [
      "Manufacturing Site\n",
      "Aurobindo Unit III, India         3031\n",
      "Mylan (formerly Matrix) Nashik    1407\n",
      "Hetero Unit III Hyderabad IN       868\n",
      "Cipla, Goa, India                  634\n",
      "Strides, Bangalore, India.         533\n",
      "Alere Medical Co., Ltd.            481\n",
      "Trinity Biotech, Plc               395\n",
      "ABBVIE Ludwigshafen Germany        354\n",
      "Inverness Japan                    337\n",
      "ABBVIE (Abbott) Logis. UK          207\n",
      "dtype: int64\n"
     ]
    },
    {
     "data": {
      "text/plain": [
       "Text(0.5, 0, 'Manufacturing Site Name')"
      ]
     },
     "execution_count": 29,
     "metadata": {},
     "output_type": "execute_result"
    },
    {
     "data": {
      "image/png": "[encoded data removed]",
      "text/plain": [
       "<Figure size 1584x432 with 1 Axes>"
      ]
     },
     "metadata": {
      "needs_background": "light"
     },
     "output_type": "display_data"
    }
   ],
   "source": [
    "plt.figure(figsize=(22,6))\n",
    "TopFiveManufacturingSite=DataSet.groupby('Manufacturing Site').size().nlargest(10)\n",
    "print(TopFiveManufacturingSite)\n",
    "TopFiveManufacturingSite.plot(kind='bar')\n",
    "plt.title('Top 10 Manufacturing Site \\n')\n",
    "plt.ylabel('Total Count')\n",
    "plt.xlabel('Manufacturing Site Name')"
   ]
  },
  {
   "cell_type": "code",
   "execution_count": 30,
   "metadata": {},
   "outputs": [
    {
     "name": "stdout",
     "output_type": "stream",
     "text": [
      "Top 10 Ocean Manufacturing Site \n",
      "\n",
      "Aurobindo Unit III, India                                                   177\n",
      "Cipla, Goa, India                                                            49\n",
      "Mylan (formerly Matrix) Nashik                                               44\n",
      "Hetero Unit III Hyderabad IN                                                 29\n",
      "Strides, Bangalore, India.                                                   27\n",
      "GSK Mississauga (Canada)                                                      9\n",
      "Aurobindo Unit VII, IN                                                        7\n",
      "ABBVIE Ludwigshafen Germany                                                   5\n",
      "Micro labs, Verna, Goa, India                                                 5\n",
      "Emcure Plot No.P-2, I.T-B.T. Park, Phase II, MIDC, Hinjwadi, Pune, India      5\n",
      "Name: Manufacturing Site, dtype: int64\n"
     ]
    },
    {
     "data": {
      "text/plain": [
       "Text(0.5, 0, 'Manufacturing Site')"
      ]
     },
     "execution_count": 30,
     "metadata": {},
     "output_type": "execute_result"
    },
    {
     "data": {
      "image/png": "[encoded data removed]",
      "text/plain": [
       "<Figure size 1584x432 with 1 Axes>"
      ]
     },
     "metadata": {
      "needs_background": "light"
     },
     "output_type": "display_data"
    }
   ],
   "source": [
    "ItemData=DataSet[DataSet['Shipment Mode']=='Ocean']\n",
    "DataSet[DataSet[\"Shipment Mode\"]=='Ocean']['Manufacturing Site'].value_counts()[0:10].to_frame().plot.bar(figsize=(22,6))\n",
    "ItemSupplier = DataSet[DataSet[\"Shipment Mode\"]=='Ocean']['Manufacturing Site'].value_counts()[0:10]\n",
    "print(\"Top 10 Ocean Manufacturing Site \\n\")\n",
    "print(ItemSupplier)\n",
    "plt.title('Top 10 Ocean Manufacturing Site\\n')\n",
    "plt.ylabel('Ocean Count')\n",
    "plt.xlabel('Manufacturing Site')"
   ]
  },
  {
   "cell_type": "code",
   "execution_count": null,
   "metadata": {},
   "outputs": [],
   "source": []
  },
  {
   "cell_type": "code",
   "execution_count": null,
   "metadata": {},
   "outputs": [],
   "source": []
  }
 ],
 "metadata": {
  "kernelspec": {
   "display_name": "Python 3 (ipykernel)",
   "language": "python",
   "name": "python3"
  },
  "language_info": {
   "codemirror_mode": {
    "name": "ipython",
    "version": 3
   },
   "file_extension": ".py",
   "mimetype": "text/x-python",
   "name": "python",
   "nbconvert_exporter": "python",
   "pygments_lexer": "ipython3",
   "version": "3.9.12"
  }
 },
 "nbformat": 4,
 "nbformat_minor": 4
}
